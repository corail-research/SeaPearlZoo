{
 "cells": [
  {
   "attachments": {},
   "cell_type": "markdown",
   "metadata": {},
   "source": [
    "# The Knapsack Problem\n",
    "\n",
    "The knapsack problem involves a knapsack with a maximum weight capacity and a set of items with a weight and a value. The goal is to maximize the total value of the items in the knapsack without exceeding the maximum weight capacity. The knapsack problem is a classic problem in the field of operations research. It is used in many applications, such as resource allocation, financial portfolio selection, and scheduling.\n",
    "\n",
    "<img src=\"img/knapsack.png\" alt=\"Knapsack\" style=\"width:400px; height:400px;\">\n",
    "\n",
    "In this notebook, we will show how to model and solve the knapsack problem using SeaPearl.jl."
   ]
  },
  {
   "attachments": {},
   "cell_type": "markdown",
   "metadata": {},
   "source": [
    "## Setup\n",
    "We will begin by activating the environment and importing the necessary packages."
   ]
  },
  {
   "cell_type": "code",
   "execution_count": 1,
   "metadata": {},
   "outputs": [
    {
     "name": "stderr",
     "output_type": "stream",
     "text": [
      "\u001b[32m\u001b[1m  Activating\u001b[22m\u001b[39m project at `c:\\Users\\leobo\\Desktop\\École\\Poly\\SeaPearl\\SeaPearlZoo.jl`\n"
     ]
    }
   ],
   "source": [
    "using Revise\n",
    "using Pkg\n",
    "Pkg.activate(\"../../../\")\n",
    "using SeaPearl"
   ]
  },
  {
   "attachments": {},
   "cell_type": "markdown",
   "metadata": {},
   "source": [
    "## Problem formulation\n",
    "\n",
    "The instances have the following format:\n",
    "```\n",
    "4 11\n",
    "8 4\n",
    "10 5\n",
    "15 8\n",
    "4 3\n",
    "```\n",
    "The instances have the following structure: the first line contains the number of items and the capacity of the knapsack; the following lines contain the value and weight of items. For example, this instance contains 4 items, the knapsack capacity is 11, the first item has a value of 8 and a weight of 4, the second item has a value of 10 and a weight of 5, and so on."
   ]
  },
  {
   "attachments": {},
   "cell_type": "markdown",
   "metadata": {},
   "source": [
    "## Parsing the Instances\n",
    "\n",
    "We will now build utilities to parse the instances."
   ]
  },
  {
   "cell_type": "code",
   "execution_count": 2,
   "metadata": {},
   "outputs": [
    {
     "data": {
      "text/plain": [
       "parseKnapsackInput!"
      ]
     },
     "metadata": {},
     "output_type": "display_data"
    }
   ],
   "source": [
    "\"\"\"Item\n",
    "   item in the knapsack problem\n",
    "\"\"\"\n",
    "struct Item\n",
    "    id      :: Int\n",
    "    value   :: Int\n",
    "    weight  :: Int\n",
    "end\n",
    "\n",
    "\"\"\"KnapsackInputData\n",
    "   input data for the knapsack problem\n",
    "\"\"\"\n",
    "struct KnapsackInputData\n",
    "    items               :: AbstractArray{Union{Item, Nothing}}\n",
    "    sortedItems         :: AbstractArray{Union{Item, Nothing}}\n",
    "    numberOfItems       :: Int\n",
    "    capacity            :: Int\n",
    "end\n",
    "\n",
    "\"\"\"parseKnapsackInput!\n",
    "   parse the input data for the knapsack problem\n",
    "\"\"\"\n",
    "function parseKnapsackInput!(filename::String)\n",
    "    input_data = nothing\n",
    "    open(filename, \"r\") do openedFile\n",
    "        input_data = read(openedFile, String)\n",
    "    end\n",
    "    lines = split(input_data, '\\n')\n",
    "    firstLine = split(lines[1], ' ')\n",
    "    numberOfItems = parse(Int, firstLine[1])\n",
    "    capacity = parse(Int, firstLine[2])\n",
    "    items = Array{Union{Item}}(undef, numberOfItems);\n",
    "\n",
    "    @assert numberOfItems + 2 <= length(lines)\n",
    "\n",
    "    for i in 1:numberOfItems\n",
    "        itemArray = split(lines[i+1], ' ')\n",
    "        item = Item(i, parse(Int, itemArray[1]), parse(Int, itemArray[2]))\n",
    "        items[i] = item\n",
    "    end\n",
    "\n",
    "    return KnapsackInputData(items, Item[], numberOfItems, capacity)\n",
    "end"
   ]
  },
  {
   "cell_type": "code",
   "execution_count": 4,
   "metadata": {},
   "outputs": [
    {
     "data": {
      "text/plain": [
       "KnapsackInputData(Union{Nothing, Item}[Item(1, 8, 4), Item(2, 10, 5), Item(3, 15, 8), Item(4, 4, 3)], Union{Nothing, Item}[], 4, 11)"
      ]
     },
     "metadata": {},
     "output_type": "display_data"
    }
   ],
   "source": [
    "knapsack_instance = parseKnapsackInput!(\"./data/ks_4_0\")"
   ]
  },
  {
   "attachments": {},
   "cell_type": "markdown",
   "metadata": {},
   "source": [
    "## Modeling the Problem\n",
    "\n",
    "We will now build a model for the problem"
   ]
  },
  {
   "cell_type": "code",
   "execution_count": 6,
   "metadata": {},
   "outputs": [
    {
     "data": {
      "text/plain": [
       "Int64[]"
      ]
     },
     "metadata": {},
     "output_type": "display_data"
    }
   ],
   "source": [
    "sorted_relative_value = sortperm(knapsack_instance.items; by=(x) -> x.value / x.weight, rev=true) # sort items by relative value\n",
    "trailer = SeaPearl.Trailer()\n",
    "model = SeaPearl.CPModel(trailer)\n",
    "num_items = knapsack_instance.numberOfItems\n",
    "# =========VARIABLES=========\n",
    "# add variables representing item selection\n",
    "item_selection = SeaPearl.IntVar[]\n",
    "for i in 1:num_items\n",
    "    push!(item_selection, SeaPearl.IntVar(0, 1, \"item[\" * string(i) * \"]\", trailer))\n",
    "    SeaPearl.addVariable!(model, last(item_selection))\n",
    "end\n",
    "# add variables representing the weight of the item in the knapsack. If the item is not selected, the variable associated to this item will have \n",
    "# a value of zero\n",
    "item_weight_in_knapsack = SeaPearl.AbstractIntVar[]\n",
    "max_weight = 0\n",
    "for i in 1:num_items\n",
    "    current_item_index = sorted_relative_value[i]\n",
    "    current_item = knapsack_instance.items[current_item_index]\n",
    "    current_item_weight_in_knapsack = SeaPearl.IntVarViewMul(item_selection[i], current_item.weight, \"weight_item[\" * string(i) * \"]\")\n",
    "    push!(item_weight_in_knapsack, current_item_weight_in_knapsack)\n",
    "    max_weight += current_item.weight\n",
    "end\n",
    "total_weight = SeaPearl.IntVar(0, max_weight, \"total_weight\", trailer) # total weight of items in knapsack\n",
    "negative_total_weight = SeaPearl.IntVarViewOpposite(total_weight, \"-total_weight\") # -1 * total_weight; necessary because the solver can only minimize objectives\n",
    "SeaPearl.addVariable!(model, total_weight)\n",
    "SeaPearl.addVariable!(model, negative_total_weight)\n",
    "push!(item_weight_in_knapsack, negative_total_weight) # added to array to later add a constraint that the sum of the array's elements == 0\n",
    "\n",
    "item_value_in_knapsack = SeaPearl.AbstractIntVar[]\n",
    "max_value = 0\n",
    "for i in 1:num_items\n",
    "    current_item_index = sorted_relative_value[i]\n",
    "    current_item = knapsack_instance.items[current_item_index]\n",
    "    current_item_value = SeaPearl.IntVarViewMul(item_selection[i], current_item.value, \"value_item[\" * string(i) * \"]\")\n",
    "    push!(item_value_in_knapsack, current_item_value)\n",
    "    max_value += current_item.value\n",
    "end\n",
    "total_value = SeaPearl.IntVar(-max_value, 0, \"totalValue\", trailer)\n",
    "SeaPearl.addVariable!(model, total_value)\n",
    "push!(item_value_in_knapsack, total_value)\n",
    "\n",
    "# =========CONSTRAINTS=========\n",
    "\n",
    "# consistency of negative weight in knapsack\n",
    "weight_sums_to_zero = SeaPearl.SumToZero(item_weight_in_knapsack, trailer)\n",
    "push!(model.constraints, weight_sums_to_zero)\n",
    "# weight below max capacity\n",
    "weight_constraint = SeaPearl.LessOrEqualConstant(total_weight, knapsack_instance.capacity, trailer)\n",
    "push!(model.constraints, weight_constraint)\n",
    "# consistency of negative value variable in knapsack\n",
    "valueEquality = SeaPearl.SumToZero(item_value_in_knapsack, trailer)\n",
    "push!(model.constraints, valueEquality)\n",
    "\n",
    "# =========OBJECTIVE=========\n",
    "SeaPearl.addObjective!(model, total_value)"
   ]
  },
  {
   "attachments": {},
   "cell_type": "markdown",
   "metadata": {},
   "source": [
    "## Variable Selection Heuristic\n",
    "\n",
    "For this problem, we will build a variable selection heuristic. It will choose the first variable that is not fixed."
   ]
  },
  {
   "cell_type": "code",
   "execution_count": 7,
   "metadata": {},
   "outputs": [
    {
     "data": {
      "text/plain": [
       "VariableSelection"
      ]
     },
     "metadata": {},
     "output_type": "display_data"
    }
   ],
   "source": [
    "struct VariableSelection{TakeObjective} <: SeaPearl.AbstractVariableSelection{TakeObjective} end\n",
    "VariableSelection(; take_objective=true) = VariableSelection{take_objective}()\n",
    "\n",
    "\"\"\"(::VariableSelection{true})(model::SeaPearl.CPModel)::SeaPearl.AbstractIntVar\n",
    "\n",
    "\"\"\"\n",
    "function (::VariableSelection{true})(model::SeaPearl.CPModel)::SeaPearl.AbstractIntVar\n",
    "    i = 1\n",
    "    while SeaPearl.isbound(model.variables[\"item[\"*string(i)*\"]\"])\n",
    "        i += 1\n",
    "    end\n",
    "    return model.variables[\"item[\"*string(i)*\"]\"]\n",
    "end"
   ]
  },
  {
   "attachments": {},
   "cell_type": "markdown",
   "metadata": {},
   "source": [
    "## Solving the Problem\n",
    "\n",
    "The model is built; let's solve it!"
   ]
  },
  {
   "cell_type": "code",
   "execution_count": 8,
   "metadata": {},
   "outputs": [
    {
     "data": {
      "text/plain": [
       ":Optimal"
      ]
     },
     "metadata": {},
     "output_type": "display_data"
    }
   ],
   "source": [
    "SeaPearl.solve!(model; variableHeuristic=VariableSelection{true}())"
   ]
  },
  {
   "attachments": {},
   "cell_type": "markdown",
   "metadata": {},
   "source": [
    "## Visualizing the Solution\n",
    "\n",
    "Let's visualize the solution obtained"
   ]
  },
  {
   "cell_type": "code",
   "execution_count": 11,
   "metadata": {},
   "outputs": [
    {
     "data": {
      "text/plain": [
       "Dict{String, Union{Bool, Int64, Set{Int64}}} with 7 entries:\n",
       "  \"item[3]\"       => 1\n",
       "  \"item[4]\"       => 1\n",
       "  \"item[2]\"       => 0\n",
       "  \"totalValue\"    => -19\n",
       "  \"total_weight\"  => 11\n",
       "  \"item[1]\"       => 0\n",
       "  \"-total_weight\" => -11"
      ]
     },
     "metadata": {},
     "output_type": "display_data"
    }
   ],
   "source": [
    "function get_best_solution(model::SeaPearl.CPModel)\n",
    "    best_solution = nothing\n",
    "    best_objective = Inf\n",
    "    for solution in model.statistics.solutions\n",
    "        if !isnothing(solution) && solution[\"totalValue\"] < best_objective\n",
    "            best_solution = solution\n",
    "            best_objective = solution[\"totalValue\"]\n",
    "        end\n",
    "    end\n",
    "    return best_solution\n",
    "end\n",
    "best_solution = get_best_solution(model)"
   ]
  }
 ],
 "metadata": {
  "kernelspec": {
   "display_name": "Julia 1.8.0",
   "language": "julia",
   "name": "julia-1.8"
  },
  "language_info": {
   "file_extension": ".jl",
   "mimetype": "application/julia",
   "name": "julia",
   "version": "1.8.0"
  },
  "orig_nbformat": 4
 },
 "nbformat": 4,
 "nbformat_minor": 2
}
