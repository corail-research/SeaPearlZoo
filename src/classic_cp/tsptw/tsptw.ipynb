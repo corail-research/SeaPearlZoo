{
 "cells": [
  {
   "attachments": {},
   "cell_type": "markdown",
   "metadata": {},
   "source": [
    "# The Traveling Salesman Problem with Time Windows\n",
    "\n",
    "The TSP with time windows is a variant of the TSP where all clients can only be visited in specific time intervals. The objective is to find a tour that minimizes the total travel time while respecting the time windows.\n",
    "\n",
    "<img src=\"img/tsptw.png\" alt=\"tsptw\" style=\"width:500px; height:400px;\">\n",
    "\n",
    "In this notebook, we will show how to model and solve the TSPTW using SeaPearl.jl."
   ]
  },
  {
   "attachments": {},
   "cell_type": "markdown",
   "metadata": {},
   "source": [
    "## Setup\n",
    "We will begin by activating the environment and importing the necessary packages."
   ]
  },
  {
   "cell_type": "code",
   "execution_count": 1,
   "metadata": {},
   "outputs": [
    {
     "name": "stderr",
     "output_type": "stream",
     "text": [
      "\u001b[32m\u001b[1m  Activating\u001b[22m\u001b[39m project at `c:\\Users\\leobo\\Desktop\\École\\Poly\\SeaPearl\\SeaPearlZoo.jl`"
     ]
    },
    {
     "name": "stderr",
     "output_type": "stream",
     "text": [
      "\n"
     ]
    }
   ],
   "source": [
    "using Revise\n",
    "using Pkg\n",
    "Pkg.activate(\"../../../\")\n",
    "using SeaPearl"
   ]
  },
  {
   "attachments": {},
   "cell_type": "markdown",
   "metadata": {},
   "source": [
    "## Instance\n",
    "\n",
    "In this notebook, we will be using the following instance:"
   ]
  },
  {
   "cell_type": "code",
   "execution_count": 2,
   "metadata": {},
   "outputs": [
    {
     "data": {
      "text/plain": [
       "21×2 Matrix{Int64}:\n",
       "   0  408\n",
       "  62   68\n",
       " 181  205\n",
       " 306  324\n",
       " 214  217\n",
       "  51   61\n",
       " 102  129\n",
       " 175  186\n",
       " 250  263\n",
       "   3   23\n",
       "   ⋮  \n",
       "  78   96\n",
       " 140  154\n",
       " 354  386\n",
       "  42   63\n",
       "   2   13\n",
       "  24   42\n",
       "  20   33\n",
       "   9   21\n",
       " 275  300"
      ]
     },
     "metadata": {},
     "output_type": "display_data"
    }
   ],
   "source": [
    "distances = [0 19 17 34 7 20 10 17 28 15 23 29 23 29 21 20 9 16 21 13 12;\n",
    "19 0 10 41 26 3 27 25 15 17 17 14 18 48 17 6 21 14 17 13 31;\n",
    "17 10 0 47 23 13 26 15 25 22 26 24 27 44 7 5 23 21 25 18 29;\n",
    "34 41 47 0 36 39 25 51 36 24 27 38 25 44 54 45 25 28 26 28 27;\n",
    "7 26 23 36 0 27 11 17 35 22 30 36 30 22 25 26 14 23 28 20 10;\n",
    "20 3 13 39 27 0 26 27 12 15 14 11 15 49 20 9 20 11 14 11 30;\n",
    "10 27 26 25 11 26 0 26 31 14 23 32 22 25 31 28 6 17 21 15 4;\n",
    "17 25 15 51 17 27 26 0 39 31 38 38 38 34 13 20 26 31 36 28 27;\n",
    "28 15 25 36 35 12 31 39 0 17 9 2 11 56 32 21 24 13 11 15 35;\n",
    "15 17 22 24 22 15 14 31 17 0 9 18 8 39 29 21 8 4 7 4 18;\n",
    "23 17 26 27 30 14 23 38 9 9 0 11 2 48 33 23 17 7 2 10 27;\n",
    "29 14 24 38 36 11 32 38 2 18 11 0 13 57 31 20 25 14 13 17 36;\n",
    "23 18 27 25 30 15 22 38 11 8 2 13 0 47 34 24 16 7 2 10 26;\n",
    "29 48 44 44 22 49 25 34 56 39 48 57 47 0 46 48 31 42 46 40 21;\n",
    "21 17 7 54 25 20 31 13 32 29 33 31 34 46 0 11 29 28 32 25 33;\n",
    "20 6 5 45 26 9 28 20 21 21 23 20 24 48 11 0 23 19 22 17 32;\n",
    "9 21 23 25 14 20 6 26 24 8 17 25 16 31 29 23 0 11 15 9 10;\n",
    "16 14 21 28 23 11 17 31 13 4 7 14 7 42 28 19 11 0 5 3 21;\n",
    "21 17 25 26 28 14 21 36 11 7 2 13 2 46 32 22 15 5 0 8 25;\n",
    "13 13 18 28 20 11 15 28 15 4 10 17 10 40 25 17 9 3 8 0 19;\n",
    "12 31 29 27 10 30 4 27 35 18 27 36 26 21 33 32 10 21 25 19 0]\n",
    "\n",
    "time_windows = [0         408;\n",
    "62        68;\n",
    "181       205;\n",
    "306       324;\n",
    "214       217;\n",
    "51        61;\n",
    "102       129;\n",
    "175       186;\n",
    "250       263;\n",
    "3         23;\n",
    "21        49;\n",
    "79        90;\n",
    "78        96;\n",
    "140       154;\n",
    "354       386;\n",
    "42        63;\n",
    "2         13;\n",
    "24        42;\n",
    "20        33;\n",
    "9         21;\n",
    "275       300]\n"
   ]
  },
  {
   "attachments": {},
   "cell_type": "markdown",
   "metadata": {},
   "source": [
    "## Modeling the Problem\n",
    "\n",
    "We will now build a model for the problem"
   ]
  },
  {
   "cell_type": "code",
   "execution_count": 6,
   "metadata": {},
   "outputs": [
    {
     "data": {
      "text/plain": [
       "closest_city"
      ]
     },
     "metadata": {},
     "output_type": "display_data"
    }
   ],
   "source": [
    "struct TsptwVariableSelection{TakeObjective} <: SeaPearl.AbstractVariableSelection{TakeObjective} end\n",
    "\n",
    "TsptwVariableSelection(; take_objective=false) = TsptwVariableSelection{take_objective}()\n",
    "\"\"\"\n",
    "    TsptwVariableSelection(cpmodel::SeaPearl.CPModel; rng=nothing)\n",
    "Selects the first unbound variable.\n",
    "\"\"\"\n",
    "function (::TsptwVariableSelection{false})(cpmodel::SeaPearl.CPModel; rng=nothing)\n",
    "    for i in 1:length(keys(cpmodel.variables))\n",
    "        if haskey(cpmodel.variables, \"a_\" * string(i)) && !SeaPearl.isbound(cpmodel.variables[\"a_\"*string(i)])\n",
    "            return cpmodel.variables[\"a_\"*string(i)]\n",
    "        end\n",
    "    end\n",
    "    println(cpmodel.variables)\n",
    "end\n",
    "\n",
    "\"\"\"\n",
    "    closest_city(x::SeaPearl.IntVar, dist::Matrix, model::SeaPearl.CPModel)\n",
    "Value selection heuristic where the closest city is chosen.\n",
    "\"\"\"\n",
    "function closest_city(x::SeaPearl.IntVar, dist::Matrix, model::SeaPearl.CPModel)\n",
    "    i = 1\n",
    "    while \"a_\" * string(i) != x.id\n",
    "        i += 1\n",
    "    end\n",
    "    current_city = SeaPearl.assignedValue(model.variables[\"v_\"*string(i)])\n",
    "    j = 0\n",
    "    minDist = 0\n",
    "    closer = j\n",
    "    found_one = false\n",
    "    while j < size(dist, 1)\n",
    "        j += 1\n",
    "        if (!found_one || dist[current_city, j] < minDist) && j in x.domain\n",
    "            minDist = dist[current_city, j]\n",
    "            closer = j\n",
    "            found_one = true\n",
    "        end\n",
    "    end\n",
    "    return closer\n",
    "end"
   ]
  },
  {
   "cell_type": "code",
   "execution_count": 7,
   "metadata": {},
   "outputs": [
    {
     "data": {
      "text/plain": [
       "SeaPearl.BasicHeuristic(var\"#11#13\"(), nothing)"
      ]
     },
     "metadata": {},
     "output_type": "display_data"
    }
   ],
   "source": [
    "trailer = SeaPearl.Trailer()\n",
    "model = SeaPearl.CPModel(trailer)\n",
    "\n",
    "n_city = size(distances)[1]\n",
    "grid_size = 100\n",
    "max_tw_gap = 10\n",
    "max_tw = 100\n",
    "\n",
    "generator = SeaPearl.TsptwGenerator(n_city, grid_size, max_tw_gap, max_tw)\n",
    "dist, time_windows = SeaPearl.fill_with_generator!(model, generator; dist=distances, timeWindows=time_windows)\n",
    "\n",
    "variableheuristic = TsptwVariableSelection{false}()\n",
    "my_heuristic(x::SeaPearl.IntVar) = minimum(x.domain)\n",
    "valueheuristic = SeaPearl.BasicHeuristic((x; cpmodel=nothing) -> closest_city(x, dist, model))"
   ]
  },
  {
   "attachments": {},
   "cell_type": "markdown",
   "metadata": {},
   "source": [
    "## Solving the Problem\n",
    "\n",
    "The model is built; let's solve it!"
   ]
  },
  {
   "cell_type": "code",
   "execution_count": 8,
   "metadata": {},
   "outputs": [
    {
     "data": {
      "text/plain": [
       ":Optimal"
      ]
     },
     "metadata": {},
     "output_type": "display_data"
    }
   ],
   "source": [
    "variableheuristic = TsptwVariableSelection{false}()\n",
    "valueheuristic = SeaPearl.BasicHeuristic((x; cpmodel = nothing) -> closest_city(x, dist, model))\n",
    "SeaPearl.solve!(model; variableHeuristic=variableheuristic, valueSelection=valueheuristic)"
   ]
  },
  {
   "attachments": {},
   "cell_type": "markdown",
   "metadata": {},
   "source": [
    "## Visualizing the Solution\n",
    "\n",
    "Let's visualize the solution obtained"
   ]
  },
  {
   "cell_type": "code",
   "execution_count": 13,
   "metadata": {},
   "outputs": [
    {
     "data": {
      "text/plain": [
       "Dict{String, Union{Bool, Int64, Set{Int64}}} with 1111 entries:\n",
       "  \"s_t_5_6\"     => true\n",
       "  \"10_in_m_16\"  => false\n",
       "  \"s_t_7_21\"    => true\n",
       "  \"s_t_2_19\"    => true\n",
       "  \"s_t_1_11\"    => true\n",
       "  \"upper_ai_19\" => 324\n",
       "  \"s_t_20_15\"   => true\n",
       "  \"upper_tw_3\"  => 204\n",
       "  \"s_t_8_1\"     => true\n",
       "  \"2_in_m_4\"    => true\n",
       "  \"15_in_m_5\"   => true\n",
       "  \"15_in_m_13\"  => true\n",
       "  \"s_t_8_17\"    => false\n",
       "  \"s_t_5_7\"     => true\n",
       "  \"12_in_m_3\"   => true\n",
       "  \"2_in_m_6\"    => true\n",
       "  \"21_in_m_18\"  => true\n",
       "  \"s_t_1_21\"    => true\n",
       "  \"s_t_1_4\"     => true\n",
       "  ⋮             => ⋮"
      ]
     },
     "metadata": {},
     "output_type": "display_data"
    }
   ],
   "source": [
    "function get_best_solution(model::SeaPearl.CPModel)\n",
    "    best_solution = nothing\n",
    "    best_objective = Inf\n",
    "    for solution in model.statistics.solutions\n",
    "        if !isnothing(solution) && solution[\"total_cost\"] < best_objective\n",
    "            best_solution = solution\n",
    "            best_objective = solution[\"total_cost\"]\n",
    "        end\n",
    "    end\n",
    "    return best_solution\n",
    "end\n",
    "best_solution = get_best_solution(model)"
   ]
  },
  {
   "cell_type": "code",
   "execution_count": null,
   "metadata": {},
   "outputs": [],
   "source": []
  }
 ],
 "metadata": {
  "kernelspec": {
   "display_name": "Julia 1.8.0",
   "language": "julia",
   "name": "julia-1.8"
  },
  "language_info": {
   "file_extension": ".jl",
   "mimetype": "application/julia",
   "name": "julia",
   "version": "1.8.0"
  },
  "orig_nbformat": 4
 },
 "nbformat": 4,
 "nbformat_minor": 2
}
