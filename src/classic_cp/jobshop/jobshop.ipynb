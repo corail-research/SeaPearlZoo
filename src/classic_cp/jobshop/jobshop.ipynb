{
 "cells": [
  {
   "attachments": {},
   "cell_type": "markdown",
   "metadata": {},
   "source": [
    "# Job Shop Scheduling Problem\n",
    "\n",
    "The job shop scheduling problem is a classic problem in combinatorial optimization. It is a generalization of the [flow shop scheduling problem](https://en.wikipedia.org/wiki/Flow_shop_scheduling) where each job consists of a sequence of tasks that must be performed on a set of machines. Each task must be performed on a specific machine, no two tasks can be performed simultaneously on the same machine and every task must run to completion after it has started. The goal is to find a schedule that minimizes the makespan, i.e., the time at which all jobs have been completed.\n",
    "\n",
    "<img src=\"img/jobshop-scheduling.png\" alt=\"Solved jobshop-scheduling\" style=\"width:600px; height:400px;\">\n",
    "\n",
    "In this notebook, we will model and solve an instance of the job shop scheduling problem using SeaPearl.jl.\n",
    "\n"
   ]
  },
  {
   "attachments": {},
   "cell_type": "markdown",
   "metadata": {},
   "source": [
    "## Setup\n",
    "We will begin by activating the environment and importing the necessary packages."
   ]
  },
  {
   "cell_type": "code",
   "execution_count": 1,
   "metadata": {},
   "outputs": [
    {
     "name": "stderr",
     "output_type": "stream",
     "text": [
      "\u001b[32m\u001b[1m  Activating\u001b[22m\u001b[39m project at `c:\\Users\\leobo\\Desktop\\École\\Poly\\SeaPearl\\SeaPearlZoo.jl`\n"
     ]
    }
   ],
   "source": [
    "using Revise\n",
    "using Pkg\n",
    "Pkg.activate(\"../../../\")\n",
    "using SeaPearl"
   ]
  },
  {
   "attachments": {},
   "cell_type": "markdown",
   "metadata": {},
   "source": [
    "## Problem formulation\n",
    "\n",
    "The instances have the following format:\n",
    "```\n",
    "3 3 500\n",
    "\n",
    "23 54 19\n",
    "45 74 34\n",
    "63 73 55\n",
    "\n",
    "2 1 0\n",
    "0 2 1\n",
    "1 2 0\n",
    "```\n",
    "The instances contain **3 blocks**:\n",
    "- The first block (first line) contains the number of machines, the number of jobs and the maximum time. \n",
    "- The second block contains the duration of each task on each machine. For example, the first line of this block indicates that task 1 takes 23 time units on machine 1, task 2 takes 54 time units on machine 2 and task 3 takes 19 time units on machine 3. \n",
    "- The third block contains the order in which the machines must be visited for each job. For example, the first line of this block indicates that job 1 must be performed in the order: machine 3, machine 2 and machine 1."
   ]
  },
  {
   "attachments": {},
   "cell_type": "markdown",
   "metadata": {},
   "source": [
    "## Parsing the Instances\n",
    "\n",
    "We will now build utilities to parse the instances."
   ]
  },
  {
   "cell_type": "code",
   "execution_count": 2,
   "metadata": {},
   "outputs": [
    {
     "data": {
      "text/plain": [
       "parseJobshopInput"
      ]
     },
     "metadata": {},
     "output_type": "display_data"
    }
   ],
   "source": [
    "\"\"\"JobshopInputData(numberOfMachines::Int, numberOfJobs::Int, maxTime::Int, job_times::Matrix{Int}, job_order::Matrix{Int})\n",
    "Contains the input data for the jobshop problem\n",
    "\"\"\"\n",
    "struct JobshopInputData\n",
    "    numberOfMachines::Int\n",
    "    numberOfJobs::Int\n",
    "    maxTime::Int\n",
    "    job_times::Matrix{Int}\n",
    "    job_order::Matrix{Int}\n",
    "end\n",
    "\n",
    "\n",
    "\"\"\"parseJobshopInput(filename::String)\n",
    "Parse the input file of the jobshop problem\n",
    "Args:\n",
    "    filename::String: path to the file to parse\n",
    "Returns:\n",
    "    ::JobshopInputData: Job Shop scheduling problem input data\n",
    "\"\"\"\n",
    "function parseJobshopInput(filename::String)\n",
    "    raw_input = nothing\n",
    "    open(filename, \"r\") do openedFile\n",
    "        raw_input = read(openedFile, String)\n",
    "    end\n",
    "    \n",
    "    lines = split(raw_input, '\\n')\n",
    "    firstLine = split(lines[1], ' ')\n",
    "\n",
    "    numberOfMachines = parse(Int, firstLine[1])\n",
    "    numberOfJobs = parse(Int, firstLine[2])\n",
    "    maxTime = parse(Int, firstLine[3])\n",
    "\n",
    "    job_times = Matrix{Int}(undef, numberOfJobs, numberOfMachines)\n",
    "    job_order = Matrix{Int}(undef, numberOfJobs, numberOfMachines)\n",
    "\n",
    "    for i in 1:numberOfJobs\n",
    "        durations = split(lines[i+2], ' ')\n",
    "        orders = split(lines[i+3+numberOfJobs], ' ')\n",
    "        job_times[i, :] = map(x -> parse(Int, x), durations)\n",
    "        job_order[i, :] = map(x -> parse(Int, x), orders)\n",
    "    end\n",
    "\n",
    "    return JobshopInputData(numberOfMachines, numberOfJobs, maxTime, job_times, job_order)\n",
    "end"
   ]
  },
  {
   "cell_type": "code",
   "execution_count": 3,
   "metadata": {},
   "outputs": [
    {
     "data": {
      "text/plain": [
       "JobshopInputData(3, 3, 500, [23 54 19; 45 74 34; 63 73 55], [2 1 0; 0 2 1; 1 2 0])"
      ]
     },
     "metadata": {},
     "output_type": "display_data"
    }
   ],
   "source": [
    "jobshop_input = parseJobshopInput(\"./data/js_3_3\")"
   ]
  },
  {
   "attachments": {},
   "cell_type": "markdown",
   "metadata": {},
   "source": [
    "## Modeling the Problem\n",
    "\n",
    "We will now build a model for the problem"
   ]
  },
  {
   "cell_type": "code",
   "execution_count": 13,
   "metadata": {},
   "outputs": [
    {
     "data": {
      "text/plain": [
       "60"
      ]
     },
     "metadata": {},
     "output_type": "display_data"
    }
   ],
   "source": [
    "numberOfMachines = jobshop_input.numberOfMachines\n",
    "numberOfJobs = jobshop_input.numberOfJobs\n",
    "maxTime = jobshop_input.maxTime\n",
    "job_times = jobshop_input.job_times\n",
    "job_order = jobshop_input.job_order\n",
    "\n",
    "trailer = SeaPearl.Trailer()\n",
    "model = SeaPearl.CPModel(trailer)\n",
    "model.adhocInfo = Dict(\"numberOfMachines\" => numberOfMachines, \"numberOfJobs\" => numberOfJobs)\n",
    "\n",
    "### Variable declaration ###    \n",
    "\n",
    "# Start/End times for each machine and jobs\n",
    "job_start = Matrix{SeaPearl.AbstractIntVar}(undef, numberOfJobs, numberOfMachines)\n",
    "job_end = Matrix{SeaPearl.AbstractIntVar}(undef, numberOfJobs, numberOfMachines)\n",
    "\n",
    "# add variables\n",
    "for i in 1:numberOfJobs\n",
    "    for j in 1:numberOfMachines\n",
    "        job_start[i, j] = SeaPearl.IntVar(0, maxTime, \"job_start_\" * string(i) * \"_\" * string(j), model.trailer)\n",
    "        SeaPearl.addVariable!(model, job_start[i, j]; branchable=true)\n",
    "        job_end[i, j] = SeaPearl.IntVarViewOffset(job_start[i, j], job_times[i, j], \"job_end_\" * string(i) * \"_\" * string(j))\n",
    "        SeaPearl.addVariable!(model, job_end[i, j]; branchable=false)\n",
    "        # Set maxTime as upper bound to each job_end\n",
    "        SeaPearl.addConstraint!(model, SeaPearl.LessOrEqualConstant(job_end[i, j], maxTime, trailer))\n",
    "    end\n",
    "end\n",
    "\n",
    "## Makespan\n",
    "makespan = SeaPearl.IntVar(0, maxTime, \"makespan\", model.trailer)\n",
    "SeaPearl.addVariable!(model, makespan; branchable=false)\n",
    "SeaPearl.addConstraint!(model, SeaPearl.MaximumConstraint(job_end, makespan, trailer))\n",
    "\n",
    "### Constraints ###\n",
    "\n",
    "# ensure non-overlaps of the jobs\n",
    "for i in 1:numberOfJobs\n",
    "    SeaPearl.addConstraint!(model, SeaPearl.Disjunctive(job_start[i, :], job_times[i, :], trailer))\n",
    "end\n",
    "\n",
    "# ensure non-overlaps of the machines\n",
    "for i in 1:numberOfMachines\n",
    "    SeaPearl.addConstraint!(model, SeaPearl.Disjunctive(job_start[:, i], job_times[:, i], trailer))\n",
    "end\n",
    "\n",
    "# ensure the job order\n",
    "for job in 1:numberOfJobs\n",
    "    for machine1 in 1:numberOfMachines\n",
    "        for machine2 in 1:numberOfMachines\n",
    "            if machine1 < machine2\n",
    "                if job_order[job, machine1] < job_order[job, machine2]\n",
    "                    SeaPearl.addConstraint!(model, SeaPearl.LessOrEqual(job_end[job, machine1], job_start[job, machine2], trailer))\n",
    "                else\n",
    "                    SeaPearl.addConstraint!(model, SeaPearl.LessOrEqual(job_end[job, machine2], job_start[job, machine1], trailer))\n",
    "                end\n",
    "            end\n",
    "        end\n",
    "    end\n",
    "end\n",
    "\n",
    "### Objective ###\n",
    "SeaPearl.addObjective!(model, makespan)\n",
    "\n",
    "### Solve ###\n",
    "# model.limit.numberOfSolutions = 1\n",
    "model.limit.searchingTime = 60"
   ]
  },
  {
   "cell_type": "code",
   "execution_count": 14,
   "metadata": {},
   "outputs": [
    {
     "data": {
      "text/plain": [
       ":TimeLimitStop"
      ]
     },
     "metadata": {},
     "output_type": "display_data"
    }
   ],
   "source": [
    "my_heuristic(x::SeaPearl.IntVar; cpmodel=nothing) = minimum(x.domain)\n",
    "SeaPearl.solve!(model; variableHeuristic=SeaPearl.MinDomainVariableSelection{true}(), valueSelection=SeaPearl.BasicHeuristic(my_heuristic))"
   ]
  },
  {
   "cell_type": "code",
   "execution_count": null,
   "metadata": {},
   "outputs": [],
   "source": [
    "for "
   ]
  }
 ],
 "metadata": {
  "kernelspec": {
   "display_name": "Julia 1.8.0",
   "language": "julia",
   "name": "julia-1.8"
  },
  "language_info": {
   "file_extension": ".jl",
   "mimetype": "application/julia",
   "name": "julia",
   "version": "1.8.0"
  },
  "orig_nbformat": 4
 },
 "nbformat": 4,
 "nbformat_minor": 2
}
