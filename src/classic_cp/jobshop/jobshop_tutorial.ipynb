{
 "cells": [
  {
   "attachments": {},
   "cell_type": "markdown",
   "metadata": {},
   "source": [
    "# Job Shop Scheduling Problem\n",
    "\n",
    "The job shop scheduling problem is a classic problem in combinatorial optimization. It is a generalization of the [flow shop scheduling problem](https://en.wikipedia.org/wiki/Flow_shop_scheduling) where each job consists of a sequence of tasks that must be performed on a set of machines. Each task must be performed on a specific machine, no two tasks can be performed simultaneously on the same machine and every task must run to completion after it has started. The goal is to find a schedule that minimizes the makespan, i.e., the time at which all jobs have been completed.\n",
    "\n",
    "<img src=\"img/jobshop-scheduling.png\" alt=\"Solved jobshop-scheduling\" style=\"width:600px; height:400px;\">\n",
    "\n",
    "In this notebook, we will model and solve an instance of the job shop scheduling problem using SeaPearl.jl.\n",
    "\n"
   ]
  },
  {
   "attachments": {},
   "cell_type": "markdown",
   "metadata": {},
   "source": [
    "## Setup\n",
    "We will begin by activating the environment and importing the necessary packages."
   ]
  },
  {
   "cell_type": "code",
   "execution_count": 40,
   "metadata": {},
   "outputs": [
    {
     "name": "stderr",
     "output_type": "stream",
     "text": [
      "\u001b[32m\u001b[1m  Activating\u001b[22m\u001b[39m project at `c:\\Users\\leobo\\Desktop\\École\\Poly\\SeaPearl\\SeaPearlZoo.jl`\n"
     ]
    }
   ],
   "source": [
    "using Revise\n",
    "using Pkg\n",
    "Pkg.activate(\"../../../\")\n",
    "using SeaPearl"
   ]
  },
  {
   "attachments": {},
   "cell_type": "markdown",
   "metadata": {},
   "source": [
    "## Problem formulation\n",
    "\n",
    "The instances have the following format:\n",
    "```\n",
    "3 3 500\n",
    "\n",
    "23 54 19\n",
    "45 74 34\n",
    "63 73 55\n",
    "\n",
    "2 1 0\n",
    "0 2 1\n",
    "1 2 0\n",
    "```\n",
    "The instances contain **3 blocks**:\n",
    "- The first block (first line) contains the number of machines, the number of jobs and the maximum time. \n",
    "- The second block contains the duration of each task on each machine. For example, the first line of this block indicates that task 1 takes 23 time units on machine 1, task 2 takes 54 time units on machine 2 and task 3 takes 19 time units on machine 3. \n",
    "- The third block contains the order in which the machines must be visited for each job. For example, the first line of this block indicates that job 1 must be performed in the order: machine 3, machine 2 and machine 1."
   ]
  },
  {
   "attachments": {},
   "cell_type": "markdown",
   "metadata": {},
   "source": [
    "## Parsing the Instances\n",
    "\n",
    "We will now build utilities to parse the instances."
   ]
  },
  {
   "cell_type": "code",
   "execution_count": 41,
   "metadata": {},
   "outputs": [
    {
     "data": {
      "text/plain": [
       "parseJobshopInput"
      ]
     },
     "metadata": {},
     "output_type": "display_data"
    }
   ],
   "source": [
    "\"\"\"JobshopInputData(numberOfMachines::Int, numberOfJobs::Int, maxTime::Int, job_times::Matrix{Int}, job_order::Matrix{Int})\n",
    "Contains the input data for the jobshop problem\n",
    "\"\"\"\n",
    "struct JobshopInputData\n",
    "    numberOfMachines::Int\n",
    "    numberOfJobs::Int\n",
    "    maxTime::Int\n",
    "    job_times::Matrix{Int}\n",
    "    job_order::Matrix{Int}\n",
    "end\n",
    "\n",
    "\n",
    "\"\"\"parseJobshopInput(filename::String)\n",
    "Parse the input file of the jobshop problem\n",
    "Args:\n",
    "    filename::String: path to the file to parse\n",
    "Returns:\n",
    "    ::JobshopInputData: Job Shop scheduling problem input data\n",
    "\"\"\"\n",
    "function parseJobshopInput(filename::String)\n",
    "    raw_input = nothing\n",
    "    open(filename, \"r\") do openedFile\n",
    "        raw_input = read(openedFile, String)\n",
    "    end\n",
    "    \n",
    "    lines = split(raw_input, '\\n')\n",
    "    firstLine = split(lines[1], ' ')\n",
    "\n",
    "    numberOfMachines = parse(Int, firstLine[1])\n",
    "    numberOfJobs = parse(Int, firstLine[2])\n",
    "    maxTime = parse(Int, firstLine[3])\n",
    "\n",
    "    job_times = Matrix{Int}(undef, numberOfJobs, numberOfMachines)\n",
    "    job_order = Matrix{Int}(undef, numberOfJobs, numberOfMachines)\n",
    "\n",
    "    for i in 1:numberOfJobs\n",
    "        durations = split(lines[i+2], ' ')\n",
    "        orders = split(lines[i+3+numberOfJobs], ' ')\n",
    "        job_times[i, :] = map(x -> parse(Int, x), durations)\n",
    "        job_order[i, :] = map(x -> parse(Int, x), orders)\n",
    "    end\n",
    "\n",
    "    return JobshopInputData(numberOfMachines, numberOfJobs, maxTime, job_times, job_order)\n",
    "end"
   ]
  },
  {
   "cell_type": "code",
   "execution_count": 42,
   "metadata": {},
   "outputs": [
    {
     "data": {
      "text/plain": [
       "JobshopInputData(3, 3, 500, [23 54 19; 45 74 34; 63 73 55], [2 1 0; 0 2 1; 1 2 0])"
      ]
     },
     "metadata": {},
     "output_type": "display_data"
    }
   ],
   "source": [
    "jobshop_input = parseJobshopInput(\"./data/js_3_3\")"
   ]
  },
  {
   "attachments": {},
   "cell_type": "markdown",
   "metadata": {},
   "source": [
    "## Modeling the Problem\n",
    "\n",
    "We will now build a model for the problem"
   ]
  },
  {
   "cell_type": "code",
   "execution_count": 43,
   "metadata": {},
   "outputs": [
    {
     "data": {
      "text/plain": [
       "60"
      ]
     },
     "metadata": {},
     "output_type": "display_data"
    }
   ],
   "source": [
    "numberOfMachines = jobshop_input.numberOfMachines\n",
    "numberOfJobs = jobshop_input.numberOfJobs\n",
    "maxTime = jobshop_input.maxTime\n",
    "job_times = jobshop_input.job_times\n",
    "job_order = jobshop_input.job_order\n",
    "\n",
    "trailer = SeaPearl.Trailer()\n",
    "model = SeaPearl.CPModel(trailer)\n",
    "model.adhocInfo = Dict(\"numberOfMachines\" => numberOfMachines, \"numberOfJobs\" => numberOfJobs)\n",
    "\n",
    "### Variable declaration ###    \n",
    "\n",
    "# Start/End times for each machine and jobs\n",
    "job_start = Matrix{SeaPearl.AbstractIntVar}(undef, numberOfJobs, numberOfMachines)\n",
    "job_end = Matrix{SeaPearl.AbstractIntVar}(undef, numberOfJobs, numberOfMachines)\n",
    "\n",
    "# add variables\n",
    "for i in 1:numberOfJobs\n",
    "    for j in 1:numberOfMachines\n",
    "        job_start[i, j] = SeaPearl.IntVar(0, maxTime, \"job_start_\" * string(i) * \"_\" * string(j), model.trailer)\n",
    "        SeaPearl.addVariable!(model, job_start[i, j]; branchable=true)\n",
    "        job_end[i, j] = SeaPearl.IntVarViewOffset(job_start[i, j], job_times[i, j], \"job_end_\" * string(i) * \"_\" * string(j))\n",
    "        SeaPearl.addVariable!(model, job_end[i, j]; branchable=false)\n",
    "        # Set maxTime as upper bound to each job_end\n",
    "        SeaPearl.addConstraint!(model, SeaPearl.LessOrEqualConstant(job_end[i, j], maxTime, trailer))\n",
    "    end\n",
    "end\n",
    "\n",
    "## Makespan\n",
    "makespan = SeaPearl.IntVar(0, maxTime, \"makespan\", model.trailer)\n",
    "SeaPearl.addVariable!(model, makespan; branchable=false)\n",
    "SeaPearl.addConstraint!(model, SeaPearl.MaximumConstraint(job_end, makespan, trailer))\n",
    "\n",
    "### Constraints ###\n",
    "\n",
    "# ensure non-overlaps of the jobs\n",
    "for i in 1:numberOfJobs\n",
    "    SeaPearl.addConstraint!(model, SeaPearl.Disjunctive(job_start[i, :], job_times[i, :], trailer))\n",
    "end\n",
    "\n",
    "# ensure non-overlaps of the machines\n",
    "for i in 1:numberOfMachines\n",
    "    SeaPearl.addConstraint!(model, SeaPearl.Disjunctive(job_start[:, i], job_times[:, i], trailer))\n",
    "end\n",
    "\n",
    "# ensure the job order\n",
    "for job in 1:numberOfJobs\n",
    "    for machine1 in 1:numberOfMachines\n",
    "        for machine2 in 1:numberOfMachines\n",
    "            if machine1 < machine2\n",
    "                if job_order[job, machine1] < job_order[job, machine2]\n",
    "                    SeaPearl.addConstraint!(model, SeaPearl.LessOrEqual(job_end[job, machine1], job_start[job, machine2], trailer))\n",
    "                else\n",
    "                    SeaPearl.addConstraint!(model, SeaPearl.LessOrEqual(job_end[job, machine2], job_start[job, machine1], trailer))\n",
    "                end\n",
    "            end\n",
    "        end\n",
    "    end\n",
    "end\n",
    "\n",
    "### Objective ###\n",
    "SeaPearl.addObjective!(model, makespan)\n",
    "\n",
    "### Solve ###\n",
    "model.limit.searchingTime = 60"
   ]
  },
  {
   "cell_type": "code",
   "execution_count": 44,
   "metadata": {},
   "outputs": [
    {
     "data": {
      "text/plain": [
       ":TimeLimitStop"
      ]
     },
     "metadata": {},
     "output_type": "display_data"
    }
   ],
   "source": [
    "my_heuristic(x::SeaPearl.IntVar; cpmodel=nothing) = minimum(x.domain)\n",
    "SeaPearl.solve!(model; variableHeuristic=SeaPearl.MinDomainVariableSelection{true}(), valueSelection=SeaPearl.BasicHeuristic(my_heuristic))"
   ]
  },
  {
   "attachments": {},
   "cell_type": "markdown",
   "metadata": {},
   "source": [
    "## Plotting the Solution\n",
    "\n",
    "Now that we have a solution, we can plot it. We will first filter the solutions obtained to grab the best one, then we'll plot it with a Gantt chart."
   ]
  },
  {
   "cell_type": "code",
   "execution_count": 45,
   "metadata": {},
   "outputs": [
    {
     "data": {
      "text/plain": [
       "get_top_solution (generic function with 1 method)"
      ]
     },
     "metadata": {},
     "output_type": "display_data"
    }
   ],
   "source": [
    "function get_top_solution(model::SeaPearl.CPModel)\n",
    "    top_solution = nothing\n",
    "    top_makespan = nothing\n",
    "    for solution in model.statistics.solutions\n",
    "        if !isnothing(solution)\n",
    "            if isnothing(top_solution)\n",
    "                top_solution = solution\n",
    "                top_makespan = solution[\"makespan\"]\n",
    "            elseif solution[\"makespan\"] < top_makespan\n",
    "                top_solution = solution\n",
    "                top_makespan = solution[\"makespan\"]\n",
    "            end\n",
    "        end\n",
    "    end\n",
    "    return top_solution\n",
    "end"
   ]
  },
  {
   "cell_type": "code",
   "execution_count": 46,
   "metadata": {},
   "outputs": [
    {
     "data": {
      "text/plain": [
       "Dict{String, Union{Bool, Int64, Set{Int64}}} with 19 entries:\n",
       "  \"job_start_1_3\" => 55\n",
       "  \"job_end_2_2\"   => 275\n",
       "  \"job_end_3_1\"   => 118\n",
       "  \"job_start_1_2\" => 74\n",
       "  \"job_end_3_3\"   => 55\n",
       "  \"job_end_1_2\"   => 128\n",
       "  \"job_start_3_2\" => 128\n",
       "  \"job_end_1_1\"   => 151\n",
       "  \"job_end_2_3\"   => 108\n",
       "  \"job_start_2_1\" => 0\n",
       "  \"job_end_1_3\"   => 74\n",
       "  \"job_start_3_3\" => 0\n",
       "  \"job_start_3_1\" => 55\n",
       "  \"job_start_2_2\" => 201\n",
       "  \"job_start_1_1\" => 128\n",
       "  \"job_end_3_2\"   => 201\n",
       "  \"makespan\"      => 275\n",
       "  \"job_start_2_3\" => 74\n",
       "  \"job_end_2_1\"   => 45"
      ]
     },
     "metadata": {},
     "output_type": "display_data"
    }
   ],
   "source": [
    "solution = get_top_solution(model)"
   ]
  },
  {
   "cell_type": "code",
   "execution_count": 49,
   "metadata": {},
   "outputs": [
    {
     "data": {
      "application/vnd.vegalite.v5+json": {
       "data": {
        "values": [
         {
          "finish": 74,
          "job_id": "Job 1",
          "machine": "Machine 3",
          "start": 55
         },
         {
          "finish": 128,
          "job_id": "Job 1",
          "machine": "Machine 2",
          "start": 74
         },
         {
          "finish": 201,
          "job_id": "Job 3",
          "machine": "Machine 2",
          "start": 128
         },
         {
          "finish": 45,
          "job_id": "Job 2",
          "machine": "Machine 1",
          "start": 0
         },
         {
          "finish": 55,
          "job_id": "Job 3",
          "machine": "Machine 3",
          "start": 0
         },
         {
          "finish": 118,
          "job_id": "Job 3",
          "machine": "Machine 1",
          "start": 55
         },
         {
          "finish": 275,
          "job_id": "Job 2",
          "machine": "Machine 2",
          "start": 201
         },
         {
          "finish": 151,
          "job_id": "Job 1",
          "machine": "Machine 1",
          "start": 128
         },
         {
          "finish": 108,
          "job_id": "Job 2",
          "machine": "Machine 3",
          "start": 74
         }
        ]
       },
       "encoding": {
        "color": {
         "field": "machine",
         "type": "nominal"
        },
        "x": {
         "field": "start",
         "type": "quantitative"
        },
        "x2": {
         "field": "finish",
         "type": "quantitative"
        },
        "y": {
         "field": "job_id",
         "sort": "ascending",
         "type": "nominal"
        }
       },
       "height": 600,
       "mark": "bar",
       "width": 800
      },
      "image/png": "[encoded data removed]",
      "image/svg+xml": [
       "<svg xmlns=\"http://www.w3.org/2000/svg\" xmlns:xlink=\"http://www.w3.org/1999/xlink\" version=\"1.1\" class=\"marks\" width=\"935\" height=\"642\" viewBox=\"0 0 935 642\"><rect width=\"935\" height=\"642\" fill=\"white\"/><g fill=\"none\" stroke-miterlimit=\"10\" transform=\"translate(51,5)\"><g class=\"mark-group role-frame root\" role=\"graphics-object\" aria-roledescription=\"group mark container\"><g transform=\"translate(0,0)\"><path class=\"background\" aria-hidden=\"true\" d=\"M0.5,0.5h800v600h-800Z\" stroke=\"#ddd\"/><g><g class=\"mark-group role-axis\" aria-hidden=\"true\"><g transform=\"translate(0.5,600.5)\"><path class=\"background\" aria-hidden=\"true\" d=\"M0,0h0v0h0Z\" pointer-events=\"none\"/><g><g class=\"mark-rule role-axis-grid\" pointer-events=\"none\"><line transform=\"translate(0,0)\" x2=\"0\" y2=\"-600\" stroke=\"#ddd\" stroke-width=\"1\" opacity=\"1\"/><line transform=\"translate(29,0)\" x2=\"0\" y2=\"-600\" stroke=\"#ddd\" stroke-width=\"1\" opacity=\"1\"/><line transform=\"translate(57,0)\" x2=\"0\" y2=\"-600\" stroke=\"#ddd\" stroke-width=\"1\" opacity=\"1\"/><line transform=\"translate(86,0)\" x2=\"0\" y2=\"-600\" stroke=\"#ddd\" stroke-width=\"1\" opacity=\"1\"/><line transform=\"translate(114,0)\" x2=\"0\" y2=\"-600\" stroke=\"#ddd\" stroke-width=\"1\" opacity=\"1\"/><line transform=\"translate(143,0)\" x2=\"0\" y2=\"-600\" stroke=\"#ddd\" stroke-width=\"1\" opacity=\"1\"/><line transform=\"translate(171,0)\" x2=\"0\" y2=\"-600\" stroke=\"#ddd\" stroke-width=\"1\" opacity=\"1\"/><line transform=\"translate(200,0)\" x2=\"0\" y2=\"-600\" stroke=\"#ddd\" stroke-width=\"1\" opacity=\"1\"/><line transform=\"translate(229,0)\" x2=\"0\" y2=\"-600\" stroke=\"#ddd\" stroke-width=\"1\" opacity=\"1\"/><line transform=\"translate(257,0)\" x2=\"0\" y2=\"-600\" stroke=\"#ddd\" stroke-width=\"1\" opacity=\"1\"/><line transform=\"translate(286,0)\" x2=\"0\" y2=\"-600\" stroke=\"#ddd\" stroke-width=\"1\" opacity=\"1\"/><line transform=\"translate(314,0)\" x2=\"0\" y2=\"-600\" stroke=\"#ddd\" stroke-width=\"1\" opacity=\"1\"/><line transform=\"translate(343,0)\" x2=\"0\" y2=\"-600\" stroke=\"#ddd\" stroke-width=\"1\" opacity=\"1\"/><line transform=\"translate(371,0)\" x2=\"0\" y2=\"-600\" stroke=\"#ddd\" stroke-width=\"1\" opacity=\"1\"/><line transform=\"translate(400,0)\" x2=\"0\" y2=\"-600\" stroke=\"#ddd\" stroke-width=\"1\" opacity=\"1\"/><line transform=\"translate(429,0)\" x2=\"0\" y2=\"-600\" stroke=\"#ddd\" stroke-width=\"1\" opacity=\"1\"/><line transform=\"translate(457,0)\" x2=\"0\" y2=\"-600\" stroke=\"#ddd\" stroke-width=\"1\" opacity=\"1\"/><line transform=\"translate(486,0)\" x2=\"0\" y2=\"-600\" stroke=\"#ddd\" stroke-width=\"1\" opacity=\"1\"/><line transform=\"translate(514,0)\" x2=\"0\" y2=\"-600\" stroke=\"#ddd\" stroke-width=\"1\" opacity=\"1\"/><line transform=\"translate(543,0)\" x2=\"0\" y2=\"-600\" stroke=\"#ddd\" stroke-width=\"1\" opacity=\"1\"/><line transform=\"translate(571,0)\" x2=\"0\" y2=\"-600\" stroke=\"#ddd\" stroke-width=\"1\" opacity=\"1\"/><line transform=\"translate(600,0)\" x2=\"0\" y2=\"-600\" stroke=\"#ddd\" stroke-width=\"1\" opacity=\"1\"/><line transform=\"translate(629,0)\" x2=\"0\" y2=\"-600\" stroke=\"#ddd\" stroke-width=\"1\" opacity=\"1\"/><line transform=\"translate(657,0)\" x2=\"0\" y2=\"-600\" stroke=\"#ddd\" stroke-width=\"1\" opacity=\"1\"/><line transform=\"translate(686,0)\" x2=\"0\" y2=\"-600\" stroke=\"#ddd\" stroke-width=\"1\" opacity=\"1\"/><line transform=\"translate(714,0)\" x2=\"0\" y2=\"-600\" stroke=\"#ddd\" stroke-width=\"1\" opacity=\"1\"/><line transform=\"translate(743,0)\" x2=\"0\" y2=\"-600\" stroke=\"#ddd\" stroke-width=\"1\" opacity=\"1\"/><line transform=\"translate(771,0)\" x2=\"0\" y2=\"-600\" stroke=\"#ddd\" stroke-width=\"1\" opacity=\"1\"/><line transform=\"translate(800,0)\" x2=\"0\" y2=\"-600\" stroke=\"#ddd\" stroke-width=\"1\" opacity=\"1\"/></g></g><path class=\"foreground\" aria-hidden=\"true\" d=\"\" pointer-events=\"none\" display=\"none\"/></g></g><g class=\"mark-group role-axis\" role=\"graphics-symbol\" aria-roledescription=\"axis\" aria-label=\"X-axis titled 'start, finish' for a linear scale with values from 0 to 280\"><g transform=\"translate(0.5,600.5)\"><path class=\"background\" aria-hidden=\"true\" d=\"M0,0h0v0h0Z\" pointer-events=\"none\"/><g><g class=\"mark-rule role-axis-tick\" pointer-events=\"none\"><line transform=\"translate(0,0)\" x2=\"0\" y2=\"5\" stroke=\"#888\" stroke-width=\"1\" opacity=\"1\"/><line transform=\"translate(29,0)\" x2=\"0\" y2=\"5\" stroke=\"#888\" stroke-width=\"1\" opacity=\"1\"/><line transform=\"translate(57,0)\" x2=\"0\" y2=\"5\" stroke=\"#888\" stroke-width=\"1\" opacity=\"1\"/><line transform=\"translate(86,0)\" x2=\"0\" y2=\"5\" stroke=\"#888\" stroke-width=\"1\" opacity=\"1\"/><line transform=\"translate(114,0)\" x2=\"0\" y2=\"5\" stroke=\"#888\" stroke-width=\"1\" opacity=\"1\"/><line transform=\"translate(143,0)\" x2=\"0\" y2=\"5\" stroke=\"#888\" stroke-width=\"1\" opacity=\"1\"/><line transform=\"translate(171,0)\" x2=\"0\" y2=\"5\" stroke=\"#888\" stroke-width=\"1\" opacity=\"1\"/><line transform=\"translate(200,0)\" x2=\"0\" y2=\"5\" stroke=\"#888\" stroke-width=\"1\" opacity=\"1\"/><line transform=\"translate(229,0)\" x2=\"0\" y2=\"5\" stroke=\"#888\" stroke-width=\"1\" opacity=\"1\"/><line transform=\"translate(257,0)\" x2=\"0\" y2=\"5\" stroke=\"#888\" stroke-width=\"1\" opacity=\"1\"/><line transform=\"translate(286,0)\" x2=\"0\" y2=\"5\" stroke=\"#888\" stroke-width=\"1\" opacity=\"1\"/><line transform=\"translate(314,0)\" x2=\"0\" y2=\"5\" stroke=\"#888\" stroke-width=\"1\" opacity=\"1\"/><line transform=\"translate(343,0)\" x2=\"0\" y2=\"5\" stroke=\"#888\" stroke-width=\"1\" opacity=\"1\"/><line transform=\"translate(371,0)\" x2=\"0\" y2=\"5\" stroke=\"#888\" stroke-width=\"1\" opacity=\"1\"/><line transform=\"translate(400,0)\" x2=\"0\" y2=\"5\" stroke=\"#888\" stroke-width=\"1\" opacity=\"1\"/><line transform=\"translate(429,0)\" x2=\"0\" y2=\"5\" stroke=\"#888\" stroke-width=\"1\" opacity=\"1\"/><line transform=\"translate(457,0)\" x2=\"0\" y2=\"5\" stroke=\"#888\" stroke-width=\"1\" opacity=\"1\"/><line transform=\"translate(486,0)\" x2=\"0\" y2=\"5\" stroke=\"#888\" stroke-width=\"1\" opacity=\"1\"/><line transform=\"translate(514,0)\" x2=\"0\" y2=\"5\" stroke=\"#888\" stroke-width=\"1\" opacity=\"1\"/><line transform=\"translate(543,0)\" x2=\"0\" y2=\"5\" stroke=\"#888\" stroke-width=\"1\" opacity=\"1\"/><line transform=\"translate(571,0)\" x2=\"0\" y2=\"5\" stroke=\"#888\" stroke-width=\"1\" opacity=\"1\"/><line transform=\"translate(600,0)\" x2=\"0\" y2=\"5\" stroke=\"#888\" stroke-width=\"1\" opacity=\"1\"/><line transform=\"translate(629,0)\" x2=\"0\" y2=\"5\" stroke=\"#888\" stroke-width=\"1\" opacity=\"1\"/><line transform=\"translate(657,0)\" x2=\"0\" y2=\"5\" stroke=\"#888\" stroke-width=\"1\" opacity=\"1\"/><line transform=\"translate(686,0)\" x2=\"0\" y2=\"5\" stroke=\"#888\" stroke-width=\"1\" opacity=\"1\"/><line transform=\"translate(714,0)\" x2=\"0\" y2=\"5\" stroke=\"#888\" stroke-width=\"1\" opacity=\"1\"/><line transform=\"translate(743,0)\" x2=\"0\" y2=\"5\" stroke=\"#888\" stroke-width=\"1\" opacity=\"1\"/><line transform=\"translate(771,0)\" x2=\"0\" y2=\"5\" stroke=\"#888\" stroke-width=\"1\" opacity=\"1\"/><line transform=\"translate(800,0)\" x2=\"0\" y2=\"5\" stroke=\"#888\" stroke-width=\"1\" opacity=\"1\"/></g><g class=\"mark-text role-axis-label\" pointer-events=\"none\"><text text-anchor=\"start\" transform=\"translate(0,15)\" font-family=\"sans-serif\" font-size=\"10px\" fill=\"#000\" opacity=\"1\">0</text><text text-anchor=\"middle\" transform=\"translate(28.57142857142857,15)\" font-family=\"sans-serif\" font-size=\"10px\" fill=\"#000\" opacity=\"1\">10</text><text text-anchor=\"middle\" transform=\"translate(57.14285714285714,15)\" font-family=\"sans-serif\" font-size=\"10px\" fill=\"#000\" opacity=\"1\">20</text><text text-anchor=\"middle\" transform=\"translate(85.71428571428571,15)\" font-family=\"sans-serif\" font-size=\"10px\" fill=\"#000\" opacity=\"1\">30</text><text text-anchor=\"middle\" transform=\"translate(114.28571428571428,15)\" font-family=\"sans-serif\" font-size=\"10px\" fill=\"#000\" opacity=\"1\">40</text><text text-anchor=\"middle\" transform=\"translate(142.85714285714286,15)\" font-family=\"sans-serif\" font-size=\"10px\" fill=\"#000\" opacity=\"1\">50</text><text text-anchor=\"middle\" transform=\"translate(171.42857142857142,15)\" font-family=\"sans-serif\" font-size=\"10px\" fill=\"#000\" opacity=\"1\">60</text><text text-anchor=\"middle\" transform=\"translate(200,15)\" font-family=\"sans-serif\" font-size=\"10px\" fill=\"#000\" opacity=\"1\">70</text><text text-anchor=\"middle\" transform=\"translate(228.57142857142856,15)\" font-family=\"sans-serif\" font-size=\"10px\" fill=\"#000\" opacity=\"1\">80</text><text text-anchor=\"middle\" transform=\"translate(257.14285714285717,15)\" font-family=\"sans-serif\" font-size=\"10px\" fill=\"#000\" opacity=\"1\">90</text><text text-anchor=\"middle\" transform=\"translate(285.7142857142857,15)\" font-family=\"sans-serif\" font-size=\"10px\" fill=\"#000\" opacity=\"1\">100</text><text text-anchor=\"middle\" transform=\"translate(314.2857142857143,15)\" font-family=\"sans-serif\" font-size=\"10px\" fill=\"#000\" opacity=\"1\">110</text><text text-anchor=\"middle\" transform=\"translate(342.85714285714283,15)\" font-family=\"sans-serif\" font-size=\"10px\" fill=\"#000\" opacity=\"1\">120</text><text text-anchor=\"middle\" transform=\"translate(371.42857142857144,15)\" font-family=\"sans-serif\" font-size=\"10px\" fill=\"#000\" opacity=\"1\">130</text><text text-anchor=\"middle\" transform=\"translate(400,15)\" font-family=\"sans-serif\" font-size=\"10px\" fill=\"#000\" opacity=\"1\">140</text><text text-anchor=\"middle\" transform=\"translate(428.57142857142856,15)\" font-family=\"sans-serif\" font-size=\"10px\" fill=\"#000\" opacity=\"1\">150</text><text text-anchor=\"middle\" transform=\"translate(457.1428571428571,15)\" font-family=\"sans-serif\" font-size=\"10px\" fill=\"#000\" opacity=\"1\">160</text><text text-anchor=\"middle\" transform=\"translate(485.71428571428567,15)\" font-family=\"sans-serif\" font-size=\"10px\" fill=\"#000\" opacity=\"1\">170</text><text text-anchor=\"middle\" transform=\"translate(514.2857142857143,15)\" font-family=\"sans-serif\" font-size=\"10px\" fill=\"#000\" opacity=\"1\">180</text><text text-anchor=\"middle\" transform=\"translate(542.8571428571429,15)\" font-family=\"sans-serif\" font-size=\"10px\" fill=\"#000\" opacity=\"1\">190</text><text text-anchor=\"middle\" transform=\"translate(571.4285714285714,15)\" font-family=\"sans-serif\" font-size=\"10px\" fill=\"#000\" opacity=\"1\">200</text><text text-anchor=\"middle\" transform=\"translate(600,15)\" font-family=\"sans-serif\" font-size=\"10px\" fill=\"#000\" opacity=\"1\">210</text><text text-anchor=\"middle\" transform=\"translate(628.5714285714286,15)\" font-family=\"sans-serif\" font-size=\"10px\" fill=\"#000\" opacity=\"1\">220</text><text text-anchor=\"middle\" transform=\"translate(657.1428571428571,15)\" font-family=\"sans-serif\" font-size=\"10px\" fill=\"#000\" opacity=\"1\">230</text><text text-anchor=\"middle\" transform=\"translate(685.7142857142857,15)\" font-family=\"sans-serif\" font-size=\"10px\" fill=\"#000\" opacity=\"1\">240</text><text text-anchor=\"middle\" transform=\"translate(714.2857142857143,15)\" font-family=\"sans-serif\" font-size=\"10px\" fill=\"#000\" opacity=\"1\">250</text><text text-anchor=\"middle\" transform=\"translate(742.8571428571429,15)\" font-family=\"sans-serif\" font-size=\"10px\" fill=\"#000\" opacity=\"1\">260</text><text text-anchor=\"middle\" transform=\"translate(771.4285714285714,15)\" font-family=\"sans-serif\" font-size=\"10px\" fill=\"#000\" opacity=\"1\">270</text><text text-anchor=\"end\" transform=\"translate(800,15)\" font-family=\"sans-serif\" font-size=\"10px\" fill=\"#000\" opacity=\"1\">280</text></g><g class=\"mark-rule role-axis-domain\" pointer-events=\"none\"><line transform=\"translate(0,0)\" x2=\"800\" y2=\"0\" stroke=\"#888\" stroke-width=\"1\" opacity=\"1\"/></g><g class=\"mark-text role-axis-title\" pointer-events=\"none\"><text text-anchor=\"middle\" transform=\"translate(400,30)\" font-family=\"sans-serif\" font-size=\"11px\" font-weight=\"bold\" fill=\"#000\" opacity=\"1\">start, finish</text></g></g><path class=\"foreground\" aria-hidden=\"true\" d=\"\" pointer-events=\"none\" display=\"none\"/></g></g><g class=\"mark-group role-axis\" role=\"graphics-symbol\" aria-roledescription=\"axis\" aria-label=\"Y-axis titled 'job_id' for a discrete scale with 3 values: Job 1, Job 2, Job 3\"><g transform=\"translate(0.5,0.5)\"><path class=\"background\" aria-hidden=\"true\" d=\"M0,0h0v0h0Z\" pointer-events=\"none\"/><g><g class=\"mark-rule role-axis-tick\" pointer-events=\"none\"><line transform=\"translate(0,100)\" x2=\"-5\" y2=\"0\" stroke=\"#888\" stroke-width=\"1\" opacity=\"1\"/><line transform=\"translate(0,300)\" x2=\"-5\" y2=\"0\" stroke=\"#888\" stroke-width=\"1\" opacity=\"1\"/><line transform=\"translate(0,500)\" x2=\"-5\" y2=\"0\" stroke=\"#888\" stroke-width=\"1\" opacity=\"1\"/></g><g class=\"mark-text role-axis-label\" pointer-events=\"none\"><text text-anchor=\"end\" transform=\"translate(-7,102.5)\" font-family=\"sans-serif\" font-size=\"10px\" fill=\"#000\" opacity=\"1\">Job 1</text><text text-anchor=\"end\" transform=\"translate(-7,302.5)\" font-family=\"sans-serif\" font-size=\"10px\" fill=\"#000\" opacity=\"1\">Job 2</text><text text-anchor=\"end\" transform=\"translate(-7,502.5)\" font-family=\"sans-serif\" font-size=\"10px\" fill=\"#000\" opacity=\"1\">Job 3</text></g><g class=\"mark-rule role-axis-domain\" pointer-events=\"none\"><line transform=\"translate(0,0)\" x2=\"0\" y2=\"600\" stroke=\"#888\" stroke-width=\"1\" opacity=\"1\"/></g><g class=\"mark-text role-axis-title\" pointer-events=\"none\"><text text-anchor=\"middle\" transform=\"translate(-34.7060546875,300) rotate(-90) translate(0,-2)\" font-family=\"sans-serif\" font-size=\"11px\" font-weight=\"bold\" fill=\"#000\" opacity=\"1\">job_id</text></g></g><path class=\"foreground\" aria-hidden=\"true\" d=\"\" pointer-events=\"none\" display=\"none\"/></g></g><g class=\"mark-rect role-mark marks\" role=\"graphics-object\" aria-roledescription=\"rect mark container\"><path aria-label=\"start: 55; job_id: Job 1; finish: 74; machine: Machine 3\" role=\"graphics-symbol\" aria-roledescription=\"bar\" d=\"M157.14285714285714,10h54.285714285714306v180h-54.285714285714306Z\" fill=\"#e45756\"/><path aria-label=\"start: 74; job_id: Job 1; finish: 128; machine: Machine 2\" role=\"graphics-symbol\" aria-roledescription=\"bar\" d=\"M211.42857142857144,10h154.28571428571428v180h-154.28571428571428Z\" fill=\"#f58518\"/><path aria-label=\"start: 128; job_id: Job 3; finish: 201; machine: Machine 2\" role=\"graphics-symbol\" aria-roledescription=\"bar\" d=\"M365.7142857142857,410h208.5714285714286v180h-208.5714285714286Z\" fill=\"#f58518\"/><path aria-label=\"start: 0; job_id: Job 2; finish: 45; machine: Machine 1\" role=\"graphics-symbol\" aria-roledescription=\"bar\" d=\"M0,210h128.57142857142858v180h-128.57142857142858Z\" fill=\"#4c78a8\"/><path aria-label=\"start: 0; job_id: Job 3; finish: 55; machine: Machine 3\" role=\"graphics-symbol\" aria-roledescription=\"bar\" d=\"M0,410h157.14285714285714v180h-157.14285714285714Z\" fill=\"#e45756\"/><path aria-label=\"start: 55; job_id: Job 3; finish: 118; machine: Machine 1\" role=\"graphics-symbol\" aria-roledescription=\"bar\" d=\"M157.14285714285714,410h180.00000000000003v180h-180.00000000000003Z\" fill=\"#4c78a8\"/><path aria-label=\"start: 201; job_id: Job 2; finish: 275; machine: Machine 2\" role=\"graphics-symbol\" aria-roledescription=\"bar\" d=\"M574.2857142857143,210h211.42857142857133v180h-211.42857142857133Z\" fill=\"#f58518\"/><path aria-label=\"start: 128; job_id: Job 1; finish: 151; machine: Machine 1\" role=\"graphics-symbol\" aria-roledescription=\"bar\" d=\"M365.7142857142857,10h65.71428571428567v180h-65.71428571428567Z\" fill=\"#4c78a8\"/><path aria-label=\"start: 74; job_id: Job 2; finish: 108; machine: Machine 3\" role=\"graphics-symbol\" aria-roledescription=\"bar\" d=\"M211.42857142857144,210h97.14285714285717v180h-97.14285714285717Z\" fill=\"#e45756\"/></g><g class=\"mark-group role-legend\" role=\"graphics-symbol\" aria-roledescription=\"legend\" aria-label=\"Symbol legend titled 'machine' for fill color with 3 values: Machine 1, Machine 2, Machine 3\"><g transform=\"translate(818,0)\"><path class=\"background\" aria-hidden=\"true\" d=\"M0,0h61v53h-61Z\" pointer-events=\"none\"/><g><g class=\"mark-group role-legend-entry\"><g transform=\"translate(0,16)\"><path class=\"background\" aria-hidden=\"true\" d=\"M0,0h0v0h0Z\" pointer-events=\"none\"/><g><g class=\"mark-group role-scope\" role=\"graphics-object\" aria-roledescription=\"group mark container\"><g transform=\"translate(0,0)\"><path class=\"background\" aria-hidden=\"true\" d=\"M0,0h60.853515625v11h-60.853515625Z\" pointer-events=\"none\" opacity=\"1\"/><g><g class=\"mark-symbol role-legend-symbol\" pointer-events=\"none\"><path transform=\"translate(6,6)\" d=\"M-5,-5h10v10h-10Z\" fill=\"#4c78a8\" stroke-width=\"1.5\" opacity=\"1\"/></g><g class=\"mark-text role-legend-label\" pointer-events=\"none\"><text text-anchor=\"start\" transform=\"translate(16,9)\" font-family=\"sans-serif\" font-size=\"10px\" fill=\"#000\" opacity=\"1\">Machine 1</text></g></g><path class=\"foreground\" aria-hidden=\"true\" d=\"\" pointer-events=\"none\" display=\"none\"/></g><g transform=\"translate(0,13)\"><path class=\"background\" aria-hidden=\"true\" d=\"M0,0h60.853515625v11h-60.853515625Z\" pointer-events=\"none\" opacity=\"1\"/><g><g class=\"mark-symbol role-legend-symbol\" pointer-events=\"none\"><path transform=\"translate(6,6)\" d=\"M-5,-5h10v10h-10Z\" fill=\"#f58518\" stroke-width=\"1.5\" opacity=\"1\"/></g><g class=\"mark-text role-legend-label\" pointer-events=\"none\"><text text-anchor=\"start\" transform=\"translate(16,9)\" font-family=\"sans-serif\" font-size=\"10px\" fill=\"#000\" opacity=\"1\">Machine 2</text></g></g><path class=\"foreground\" aria-hidden=\"true\" d=\"\" pointer-events=\"none\" display=\"none\"/></g><g transform=\"translate(0,26)\"><path class=\"background\" aria-hidden=\"true\" d=\"M0,0h60.853515625v11h-60.853515625Z\" pointer-events=\"none\" opacity=\"1\"/><g><g class=\"mark-symbol role-legend-symbol\" pointer-events=\"none\"><path transform=\"translate(6,6)\" d=\"M-5,-5h10v10h-10Z\" fill=\"#e45756\" stroke-width=\"1.5\" opacity=\"1\"/></g><g class=\"mark-text role-legend-label\" pointer-events=\"none\"><text text-anchor=\"start\" transform=\"translate(16,9)\" font-family=\"sans-serif\" font-size=\"10px\" fill=\"#000\" opacity=\"1\">Machine 3</text></g></g><path class=\"foreground\" aria-hidden=\"true\" d=\"\" pointer-events=\"none\" display=\"none\"/></g></g></g><path class=\"foreground\" aria-hidden=\"true\" d=\"\" pointer-events=\"none\" display=\"none\"/></g></g><g class=\"mark-text role-legend-title\" pointer-events=\"none\"><text text-anchor=\"start\" transform=\"translate(0,9)\" font-family=\"sans-serif\" font-size=\"11px\" font-weight=\"bold\" fill=\"#000\" opacity=\"1\">machine</text></g></g><path class=\"foreground\" aria-hidden=\"true\" d=\"\" pointer-events=\"none\" display=\"none\"/></g></g></g><path class=\"foreground\" aria-hidden=\"true\" d=\"\" display=\"none\"/></g></g></g></svg>"
      ],
      "text/plain": [
       "@vlplot(\n",
       "    width=800,\n",
       "    height=600,\n",
       "    mark=\"bar\",\n",
       "    encoding={\n",
       "        x={\n",
       "            field=\"start\",\n",
       "            type=\"quantitative\"\n",
       "        },\n",
       "        x2={\n",
       "            field=\"finish\",\n",
       "            type=\"quantitative\"\n",
       "        },\n",
       "        y={\n",
       "            sort=\"ascending\",\n",
       "            field=\"job_id\",\n",
       "            type=\"nominal\"\n",
       "        },\n",
       "        color={\n",
       "            field=\"machine\",\n",
       "            type=\"nominal\"\n",
       "        }\n",
       "    },\n",
       "    data={\n",
       "        values=...\n",
       "    }\n",
       ")"
      ]
     },
     "metadata": {},
     "output_type": "display_data"
    }
   ],
   "source": [
    "using VegaLite, DataFrames\n",
    "\n",
    "df = DataFrame(job_id = String[], start = Int[], finish = Int[], machine = String[])\n",
    "\n",
    "for (k, v) in solution\n",
    "    if occursin(\"start\", k)\n",
    "        job_id, machine_id = split(k, \"_\")[3:4]\n",
    "        end_time = solution[\"job_end_\" * job_id * \"_\" * machine_id]\n",
    "        push!(df, [\"Job \" * job_id, v, end_time, \"Machine \" * machine_id])\n",
    "    end\n",
    "end\n",
    "\n",
    "df |> @vlplot(:bar, \n",
    "    x = \"start:q\", \n",
    "    x2 = \"finish:q\", \n",
    "    y = {\"job_id:n\", sort = \"ascending\"}, \n",
    "    color = \"machine:n\",\n",
    "    width = 800, \n",
    "    height = 600)\n",
    "\n"
   ]
  },
  {
   "cell_type": "code",
   "execution_count": null,
   "metadata": {},
   "outputs": [],
   "source": []
  }
 ],
 "metadata": {
  "kernelspec": {
   "display_name": "Julia 1.8.0",
   "language": "julia",
   "name": "julia-1.8"
  },
  "language_info": {
   "file_extension": ".jl",
   "mimetype": "application/julia",
   "name": "julia",
   "version": "1.8.0"
  },
  "orig_nbformat": 4
 },
 "nbformat": 4,
 "nbformat_minor": 2
}
