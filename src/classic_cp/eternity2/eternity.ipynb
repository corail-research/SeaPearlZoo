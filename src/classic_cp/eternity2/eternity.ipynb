{
 "cells": [
  {
   "attachments": {},
   "cell_type": "markdown",
   "metadata": {},
   "source": [
    "# Eternity II Tutorial\n",
    "\n",
    "The goal of [Eternity II](https://en.wikipedia.org/wiki/Eternity_II_puzzle) is to place triangular pieces on a board such that squares of the same color are formed. In the full game, the board is a 16x16 grid, and 22 colors. The goal is to place all 256 pieces on the board such that all triangles are formed. The game was named eternity II because there used to be a 2 million $ prize for first player to solve the puzzle. The prize has been removed since, but the puzzled has never been solved to this day. Here is an example of a solved board (4x4 instance):\n",
    "\n",
    "![Solved 4x4 Board](img/EternityII.png)\n",
    "\n",
    "In this tutorial, we will aim to solve smaller instances of Eternity II with SeaPearl. "
   ]
  },
  {
   "attachments": {},
   "cell_type": "markdown",
   "metadata": {},
   "source": [
    "## Setup\n",
    "\n",
    "We will begin by activating the environment and importing the necessary packages."
   ]
  },
  {
   "cell_type": "code",
   "execution_count": 98,
   "metadata": {},
   "outputs": [
    {
     "name": "stderr",
     "output_type": "stream",
     "text": [
      "\u001b[32m\u001b[1m  Activating\u001b[22m\u001b[39m project at `c:\\Users\\leobo\\Desktop\\École\\Poly\\SeaPearl\\SeaPearlZoo.jl`\n"
     ]
    }
   ],
   "source": [
    "using Revise\n",
    "using Pkg\n",
    "Pkg.activate(\"../../../\")\n",
    "using SeaPearl"
   ]
  },
  {
   "attachments": {},
   "cell_type": "markdown",
   "metadata": {},
   "source": [
    "## Problem Formulation\n",
    "\n",
    "Instances are located in the \"./data\" directory. We need to load them into a Julia variable. We will use the 3x3 instance as an example. The file is a text file with the following format:\n",
    "```\n",
    "3 3\n",
    "0 0 1 1\n",
    "0 0 1 2\n",
    "0 0 2 1\n",
    "0 0 2 2\n",
    "0 1 3 2\n",
    "0 1 4 1\n",
    "0 2 3 1\n",
    "0 2 4 2\n",
    "3 3 4 4\n",
    "```\n",
    "The first line contains the dimensions of the board. The following lines contain the pieces. Each line contains 4 numbers that represent up, down, left and right colors of the piece. In the 3x3 example, colors range from 0 to 4. We will build simple utilities to read instances."
   ]
  },
  {
   "cell_type": "code",
   "execution_count": 99,
   "metadata": {},
   "outputs": [
    {
     "data": {
      "text/plain": [
       "parseEternityInput"
      ]
     },
     "metadata": {},
     "output_type": "display_data"
    }
   ],
   "source": [
    "\n",
    "\"\"\"EternityInputData(n::Int, m::Int, pieces::Matrix{Int})\n",
    "\n",
    "# Arguments\n",
    "- 'n::Int' : number of rows\n",
    "- 'm::Int' : number of columns\n",
    "- 'pieces::Matrix{Int}' : pieces of the puzzle (n * m, 4) with the colors\n",
    "\"\"\"\n",
    "struct EternityInputData\n",
    "    n::Int\n",
    "    m::Int\n",
    "    pieces::Matrix{Int}\n",
    "end\n",
    "\n",
    "\"\"\"\n",
    "parseEternityInput(filename::String; order=[1,2,3,4])\n",
    "\n",
    "Parse an instance file and load it into a EternityInputData struct.\n",
    "\n",
    "# Arguments\n",
    "- 'filename::String' : path to the instance file\n",
    "- order=[1,2,3,4] : order of the colors in the file\n",
    "\"\"\"\n",
    "function parseEternityInput(filename::String; order=[1,2,3,4])\n",
    "    raw_input = nothing\n",
    "    open(filename, \"r\") do openedFile\n",
    "        raw_input = read(openedFile, String)\n",
    "    end\n",
    "    lines = split(raw_input, '\\n')\n",
    "    firstLine = split(lines[1], ' ')\n",
    "    n = parse(Int, firstLine[1])\n",
    "    m = parse(Int, firstLine[2])\n",
    "    pieces = Matrix{Int}(undef, n*m, 4)\n",
    "\n",
    "    for i = 2:n*m+1\n",
    "        line = split(lines[i],' ')\n",
    "        for j =1:4\n",
    "            pieces[i-1,j] = parse(Int, line[order[j]])\n",
    "        end\n",
    "    end\n",
    "\n",
    "    return EternityInputData(n, m, pieces)\n",
    "end"
   ]
  },
  {
   "cell_type": "code",
   "execution_count": 100,
   "metadata": {},
   "outputs": [
    {
     "data": {
      "text/plain": [
       "EternityInputData(3, 3, [0 0 1 1; 0 0 1 2; … ; 0 2 4 2; 3 3 4 4])"
      ]
     },
     "metadata": {},
     "output_type": "display_data"
    }
   ],
   "source": [
    "eternityInput::EternityInputData = parseEternityInput(\"./data/eternity3x3\")"
   ]
  },
  {
   "attachments": {},
   "cell_type": "markdown",
   "metadata": {},
   "source": [
    "## Modeling the Problem, pt. 1 - Simple Model\n",
    "\n",
    "We will now build a simple model for the problem."
   ]
  },
  {
   "cell_type": "code",
   "execution_count": 101,
   "metadata": {},
   "outputs": [
    {
     "data": {
      "text/plain": [
       "Dict{String, Int64} with 2 entries:\n",
       "  \"m\" => 3\n",
       "  \"n\" => 3"
      ]
     },
     "metadata": {},
     "output_type": "display_data"
    }
   ],
   "source": [
    "trailer = SeaPearl.Trailer()\n",
    "model = SeaPearl.CPModel(trailer)\n",
    "model.limit.numberOfSolutions = nothing\n",
    "\n",
    "n = eternityInput.n\n",
    "m = eternityInput.m\n",
    "pieces = eternityInput.pieces\n",
    "num_colors = maximum(pieces)\n",
    "\n",
    "table = Matrix{Int}(undef, 5, 4 * n * m)\n",
    "\n",
    "for tile = 1: n * m\n",
    "    for color = 1:4\n",
    "        table[1, 4 * (tile - 1) + color] = tile\n",
    "        for j = 2:5\n",
    "            table[j, 4 * (tile - 1) + color] = pieces[tile, (j + color + 1) % 4 + 1]\n",
    "        end\n",
    "    end\n",
    "end\n",
    "\n",
    "id = Matrix{SeaPearl.AbstractIntVar}(undef, n, m) # id of the tile\n",
    "up = Matrix{SeaPearl.AbstractIntVar}(undef, n, m) # up\n",
    "right = Matrix{SeaPearl.AbstractIntVar}(undef, n, m) # right\n",
    "down = Matrix{SeaPearl.AbstractIntVar}(undef, n, m) # down\n",
    "left = Matrix{SeaPearl.AbstractIntVar}(undef, n, m) # left\n",
    "\n",
    "for i = 1:n, j=1:m\n",
    "    # Add ID variables\n",
    "    id[i,j] = SeaPearl.IntVar(1, n * m, \"id_\"*string(i)*string(j), trailer)\n",
    "    SeaPearl.addVariable!(model, id[i,j]; branchable=true)\n",
    "    # Add up variables\n",
    "    up[i, j] = SeaPearl.IntVar(0, num_colors, \"u_\" * string(i) * string(j), trailer)\n",
    "    SeaPearl.addVariable!(model, up[i,j]; branchable=false)\n",
    "    # Add right variables\n",
    "    right[i, j] = SeaPearl.IntVar(0, num_colors, \"r_\" * string(i) * string(j), trailer)\n",
    "    SeaPearl.addVariable!(model, right[i,j]; branchable=false)\n",
    "    # Add down variables\n",
    "    down[i, j] = SeaPearl.IntVar(0, num_colors, \"d_\" * string(i) * string(j), trailer)\n",
    "    SeaPearl.addVariable!(model, down[i,j]; branchable=false)\n",
    "    # Add left variables\n",
    "    left[i, j] = SeaPearl.IntVar(0, num_colors, \"l_\" * string(i) * string(j), trailer)\n",
    "    SeaPearl.addVariable!(model, left[i,j]; branchable=false)\n",
    "\n",
    "    vars = SeaPearl.AbstractIntVar[id[i,j], up[i,j], right[i,j],down[i,j], left[i,j]]\n",
    "    push!(model.constraints, SeaPearl.TableConstraint(vars, table, trailer))\n",
    "\n",
    "    if (j==m) push!(model.constraints, SeaPearl.EqualConstant(right[i,j], 0, trailer)) end\n",
    "    if (j==1) push!(model.constraints, SeaPearl.EqualConstant(left[i,j], 0, trailer)) end\n",
    "    if (i==1) push!(model.constraints, SeaPearl.EqualConstant(up[i,j], 0, trailer)) end\n",
    "    if (i==n) push!(model.constraints, SeaPearl.EqualConstant(down[i,j], 0, trailer)) end\n",
    "end\n",
    "\n",
    "for i = 1:n, j=1:m\n",
    "    if (j < m) push!(model.constraints, SeaPearl.Equal(right[i,j], left[i,j+1], trailer)) end\n",
    "    if (i < n) push!(model.constraints, SeaPearl.Equal(down[i,j], up[i+1,j], trailer)) end\n",
    "end\n",
    "\n",
    "push!(model.constraints, SeaPearl.AllDifferent(id, trailer))\n",
    "model.adhocInfo = Dict([(\"n\", n), (\"m\", m)])\n"
   ]
  },
  {
   "attachments": {},
   "cell_type": "markdown",
   "metadata": {},
   "source": [
    "## Solving the problem\n",
    "\n",
    "Now that we have a model for the 3x3 eternity, we can begin to solve it."
   ]
  },
  {
   "cell_type": "code",
   "execution_count": 102,
   "metadata": {},
   "outputs": [
    {
     "name": "stdout",
     "output_type": "stream",
     "text": [
      " 20.044618 seconds (20.43 M allocations: 1.046 GiB, 1.14% gc time, 99.78% compilation time)\n"
     ]
    },
    {
     "data": {
      "text/plain": [
       ":Optimal"
      ]
     },
     "metadata": {},
     "output_type": "display_data"
    }
   ],
   "source": [
    "variableSelection = SeaPearl.MinDomainVariableSelection{false}()\n",
    "valueSelection = SeaPearl.BasicHeuristic()\n",
    "\n",
    "status = @time SeaPearl.solve!(model; variableHeuristic=variableSelection, valueSelection=valueSelection)"
   ]
  },
  {
   "attachments": {},
   "cell_type": "markdown",
   "metadata": {},
   "source": [
    "## Plotting the solution\n",
    "\n",
    "We can see that the problem was solved to optimality. Now let's visualize the results we obtained."
   ]
  },
  {
   "cell_type": "code",
   "execution_count": 121,
   "metadata": {},
   "outputs": [
    {
     "data": {
      "text/plain": [
       "print_eternity2"
      ]
     },
     "metadata": {},
     "output_type": "display_data"
    }
   ],
   "source": [
    "function outputFromSeaPearl(model::SeaPearl.CPModel)\n",
    "    solutions = model.statistics.solutions\n",
    "    nb_sols = length(solutions)\n",
    "    n = model.adhocInfo[\"n\"]\n",
    "    m = model.adhocInfo[\"m\"]\n",
    "    orientation = Array{Int,4}(undef, nb_sols, n, m, 5)\n",
    "    for (ind, sol) in enumerate(solutions)\n",
    "        for i in 1:n, j in 1:m\n",
    "            orientation[ind, i, j, 1] = sol[\"id_\"*string(i)*string(j)]\n",
    "            orientation[ind, i, j, 2] = sol[\"u_\"*string(i)*string(j)]\n",
    "            orientation[ind, i, j, 3] = sol[\"r_\"*string(i)*string(j)]\n",
    "            orientation[ind, i, j, 4] = sol[\"d_\"*string(i)*string(j)]\n",
    "            orientation[ind, i, j, 5] = sol[\"l_\"*string(i)*string(j)]\n",
    "        end\n",
    "    end\n",
    "    return OutputDataEternityII(nb_sols, orientation)\n",
    "end\n",
    "\n",
    "struct OutputDataEternityII\n",
    "    nb_sols::Int\n",
    "    orientation::Array{Int,4} # dims = (nb_sols, n, m, 5) where five corresponds to (id, u,r, d, l) (u=upper edge, ...)\n",
    "end\n",
    "\n",
    "\"\"\"\n",
    "    print_eternity2(sol::Array{Int,4})\n",
    "\n",
    "print a solution\n",
    "\n",
    "# Arguments\n",
    "- 'sol::Array{Int, 4}' : one solution from OutputDataEternityII\n",
    "\"\"\"\n",
    "function print_eternity2(sol::Array{Int,4})\n",
    "    id = sol[:,:,1]\n",
    "    u = sol[:,:,2]\n",
    "    r = sol[:,:,3]\n",
    "    d = sol[:,:,4]\n",
    "    l = sol[:,:,5]\n",
    "    n = size(id,1)\n",
    "    m = size(id,2)\n",
    "    print(\" \")\n",
    "    for k in 1:9*m\n",
    "        print(\"-\")\n",
    "    end\n",
    "    println()\n",
    "    for i in 1:n\n",
    "        print(\"|\")\n",
    "        for j in 1:m\n",
    "            printstyled(\"   \"*string(u[i,j],pad=2)*\"   \", color=u[i,j])\n",
    "            print(\"|\")\n",
    "        end\n",
    "        println()\n",
    "        print(\"|\")\n",
    "        for j in 1:m\n",
    "            printstyled(string(l[i,j],pad=2),color=l[i,j])\n",
    "            printstyled(\" \"*string(id[i,j],pad=2)*\" \")\n",
    "            printstyled(string(r[i,j],pad=2),color=r[i,j])\n",
    "            print(\"|\")\n",
    "        end\n",
    "        println()\n",
    "        print(\"|\")\n",
    "        for j in 1:m\n",
    "            printstyled(\"   \"*string(d[i,j],pad=2)*\"   \", color=d[i,j])\n",
    "            print(\"|\")\n",
    "        end\n",
    "        println()\n",
    "        print(\" \")\n",
    "        for k in 1:9*m\n",
    "            print(\"-\")\n",
    "        end\n",
    "        println()\n",
    "    end\n",
    "end"
   ]
  },
  {
   "cell_type": "code",
   "execution_count": 124,
   "metadata": {},
   "outputs": [
    {
     "name": "stdout",
     "output_type": "stream",
     "text": [
      "---------------------------\n",
      "|\u001b[38;5;0m   00   \u001b[39m|\u001b[38;5;0m   00   \u001b[39m|\u001b[38;5;0m   00   \u001b[39m|\n",
      "|\u001b[38;5;0m00\u001b[39m\u001b[0m 02 \u001b[38;5;1m01\u001b[39m|\u001b[38;5;1m01\u001b[39m\u001b[0m 06 \u001b[38;5;1m01\u001b[39m|\u001b[38;5;1m01\u001b[39m\u001b[0m 03 \u001b[38;5;0m00\u001b[39m|\n",
      "|\u001b[38;5;2m   02   \u001b[39m|\u001b[38;5;4m   04   \u001b[39m|\u001b[38;5;2m   02   \u001b[39m|\n",
      "---------------------------\n",
      "|\u001b[38;5;2m   02   \u001b[39m|\u001b[38;5;4m   04   \u001b[39m|\u001b[38;5;2m   02   \u001b[39m|\n",
      "|\u001b[38;5;0m00\u001b[39m\u001b[0m 07 \u001b[38;5;3m03\u001b[39m|\u001b[38;5;3m03\u001b[39m\u001b[0m 09 \u001b[38;5;4m04\u001b[39m|\u001b[38;5;4m04\u001b[39m\u001b[0m 08 \u001b[38;5;0m00\u001b[39m|\n",
      "|\u001b[38;5;1m   01   \u001b[39m|\u001b[38;5;3m   03   \u001b[39m|\u001b[38;5;2m   02   \u001b[39m|\n",
      "---------------------------\n",
      "|\u001b[38;5;1m   01   \u001b[39m|\u001b[38;5;3m   03   \u001b[39m|\u001b[38;5;2m   02   \u001b[39m|\n",
      "|\u001b[38;5;0m00\u001b[39m\u001b[0m 01 \u001b[38;5;1m01\u001b[39m|\u001b[38;5;1m01\u001b[39m\u001b[0m 05 \u001b[38;5;2m02\u001b[39m|\u001b[38;5;2m02\u001b[39m\u001b[0m 04 \u001b[38;5;0m00\u001b[39m|\n",
      "|\u001b[38;5;0m   00   \u001b[39m|\u001b[38;5;0m   00   \u001b[39m|\u001b[38;5;0m   00   \u001b[39m|\n",
      "---------------------------\n"
     ]
    }
   ],
   "source": [
    "output_data = outputFromSeaPearl(model)\n",
    "\n",
    "print_eternity2(output_data.orientation[1,:,:,:])"
   ]
  },
  {
   "cell_type": "code",
   "execution_count": null,
   "metadata": {},
   "outputs": [],
   "source": []
  }
 ],
 "metadata": {
  "kernelspec": {
   "display_name": "Julia 1.8.0",
   "language": "julia",
   "name": "julia-1.8"
  },
  "language_info": {
   "file_extension": ".jl",
   "mimetype": "application/julia",
   "name": "julia",
   "version": "1.8.0"
  },
  "orig_nbformat": 4
 },
 "nbformat": 4,
 "nbformat_minor": 2
}
