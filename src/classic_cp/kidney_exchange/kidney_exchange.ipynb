{
 "cells": [
  {
   "attachments": {},
   "cell_type": "markdown",
   "metadata": {},
   "source": [
    "# The Kidney Exchange Problem\n",
    "\n",
    "The Kidney Exchange Problem involves a set of patients and donors, where each patient is incompatible with their own donor, but potentially compatible with another donor. The goal is to find a maximum size set of mutually compatible pairs. In this notebook, we will model, solve and plot results for the KEP using SeaPearl.\n",
    "\n",
    "<img src=\"img/kep.png\" alt=\"Kep\" style=\"width:700px; height:350px;\">"
   ]
  },
  {
   "attachments": {},
   "cell_type": "markdown",
   "metadata": {},
   "source": [
    "## Setup\n",
    "\n",
    "We will begin by setting up the necessary packages."
   ]
  },
  {
   "cell_type": "code",
   "execution_count": 1,
   "metadata": {},
   "outputs": [
    {
     "name": "stderr",
     "output_type": "stream",
     "text": [
      "\u001b[32m\u001b[1m  Activating\u001b[22m\u001b[39m project at `c:\\Users\\leobo\\Desktop\\École\\Poly\\SeaPearl\\SeaPearlZoo.jl`\n"
     ]
    }
   ],
   "source": [
    "using Revise\n",
    "using Pkg\n",
    "Pkg.activate(\"../../../\")\n",
    "using SeaPearl"
   ]
  },
  {
   "attachments": {},
   "cell_type": "markdown",
   "metadata": {},
   "source": [
    "## Problem formulation\n",
    "\n",
    "The instances have the following format:\n",
    "```\n",
    "8 0.2\n",
    "2 3\n",
    "1 6\n",
    "1 4 7\n",
    "2\n",
    "2\n",
    "5\n",
    "8\n",
    "3\n",
    "```\n",
    "The first line contains the number of patients and the probability of compatibility. The following lines contain the donor numbers for each patient. The first patient is compatible with donors 2 and 3, the second patient is compatible with donors 1 and 6, etc."
   ]
  },
  {
   "attachments": {},
   "cell_type": "markdown",
   "metadata": {},
   "source": [
    "## Parsing the Instances\n",
    "\n",
    "We will now build utilities to parse the instances. In addition to the utility function to read the instance and load it, we will also be using a function to reduce the instances. This will be done with the `reduce_instance` function. This function will take an instance and remove all patients that are incompatible with all other patients. This will reduce the size of the instance and make it easier to solve."
   ]
  },
  {
   "cell_type": "code",
   "execution_count": 5,
   "metadata": {},
   "outputs": [
    {
     "data": {
      "text/plain": [
       "reduce_instance"
      ]
     },
     "metadata": {},
     "output_type": "display_data"
    }
   ],
   "source": [
    "\"\"\"KidneyExchangeInputData(numberOfPairs::Int, density::Float16, compatibilities::Vector{Vector{Int}})\n",
    "\n",
    "Input to the Kidney Exchange Problem\n",
    "\"\"\"\n",
    "struct KidneyExchangeInputData\n",
    "    numberOfPairs::Int\n",
    "    density::Float16\n",
    "    compatibilities::Vector{Vector{Int}}\n",
    "end\n",
    "\n",
    "\"\"\"\n",
    "parseInput(filename::String)\n",
    "\n",
    "Return an KidneyExchangeInputData with the following fields:\n",
    "- numberOfPairs::Int                 -> number of donor-patient pairs\n",
    "- density::Float16                   -> probability of compatibility between 2 pairs (density ∈ [0,1])\n",
    "- compabilities::Vector{Vector{Int}} -> v[i] contains the pairs that can give a kidney to pair i  \n",
    "\n",
    "# Arguments\n",
    "- `filename`: path to the file containing the compatibilities between pairs\n",
    "\"\"\"\n",
    "function parseKidneyExchangeInput(filename::String)\n",
    "    raw_input = nothing\n",
    "    open(filename, \"r\") do openedFile\n",
    "        raw_input = read(openedFile, String)\n",
    "    end\n",
    "    lines = split(raw_input, '\\n')\n",
    "    firstLine = split(lines[1], ' ')\n",
    "\n",
    "    numberOfPairs = parse(Int, firstLine[1])\n",
    "    density = parse(Float16, firstLine[2])\n",
    "    compabilities = Vector{Vector{Int}}(undef, numberOfPairs)\n",
    "\n",
    "    for i = 2:numberOfPairs+1\n",
    "        if isempty(lines[i])\n",
    "            #Edge case: pair i can't receive any kidney\n",
    "            compabilities[i-1] = []\n",
    "        else\n",
    "            line = split(lines[i], ' ')\n",
    "            compabilities[i-1] = map(x -> parse(Int, x), line)\n",
    "        end\n",
    "    end\n",
    "    return KidneyExchangeInputData(numberOfPairs, density, compabilities)\n",
    "end\n",
    "\n",
    "\"\"\"\n",
    "reduce_instance(inputData)\n",
    "\n",
    "Try to remove recursively from compatibilities the pairs that can't receive nor give any kidney\n",
    "Create a vector (pairsEquivalence) to record the equivalence between the original instance and the reduced version\n",
    "### Args\n",
    "- inputData::KidneyExchangeInputData\n",
    "\n",
    "### Output\n",
    "- canReduce: bool to know if the instance is reductible\n",
    "- pairsEquivalence: vector to record the equivalence between the original instance and the reduced version \n",
    "- c: reduced version of the vector compatibilities\n",
    "\"\"\"\n",
    "function reduce_instance(inputData::KidneyExchangeInputData)\n",
    "    num_pairs = inputData.numberOfPairs\n",
    "    compatibilities = inputData.compatibilities\n",
    "    canReduce = true\n",
    "    current_num_pairs = num_pairs\n",
    "\n",
    "    #Remove recursively from vectors in compatibilities the pairs that can't receive nor give any kidney\n",
    "    while canReduce\n",
    "        flattened_compatibilities = reduce(vcat, compatibilities)\n",
    "        usefulPairs = [i for i in 1:num_pairs if i in flattened_compatibilities && compatibilities[i] != []]\n",
    "        if length(usefulPairs) < current_num_pairs\n",
    "            compatibilities = [filter(e -> e in usefulPairs, list) for list in compatibilities]\n",
    "            current_num_pairs = length(usefulPairs)\n",
    "        else\n",
    "            canReduce = false\n",
    "        end\n",
    "    end\n",
    "\n",
    "    if num_pairs != current_num_pairs # problem has been reduced\n",
    "        pairsEquivalence = [] # Equivalence between the original instance and the reduced version\n",
    "        for i in 1:num_pairs\n",
    "            if !isempty(compatibilities[i])\n",
    "                push!(pairsEquivalence, i)\n",
    "            end\n",
    "        end\n",
    "        compatibilities = filter(e -> !isempty(e), compatibilities) #Remove from compatibilities the isolated pairs\n",
    "\n",
    "        for i in 1:length(compatibilities) #Update compatibilities using pairsEquivalence\n",
    "            compatibilities[i] = map(e -> findfirst(x -> x == e, pairsEquivalence), compatibilities[i])\n",
    "        end\n",
    "        println(\"Instance reduction: original size \" * string(n) * \", reduced size \" * string(current_num_pairs))\n",
    "        return true, pairsEquivalence, compatibilities\n",
    "    else\n",
    "        println(\"Irreducible instance\")\n",
    "        return false, nothing, nothing\n",
    "    end\n",
    "end"
   ]
  },
  {
   "cell_type": "code",
   "execution_count": 14,
   "metadata": {},
   "outputs": [
    {
     "name": "stdout",
     "output_type": "stream",
     "text": [
      "Irreducible instance\n"
     ]
    },
    {
     "data": {
      "text/plain": [
       "(false, nothing, nothing)"
      ]
     },
     "metadata": {},
     "output_type": "display_data"
    }
   ],
   "source": [
    "kep_instance = parseKidneyExchangeInput(\"./data/kep_8_0.2\")\n",
    "canReduce, pairsEquivalence, reduced_compatibilities = reduce_instance(kep_instance)"
   ]
  },
  {
   "attachments": {},
   "cell_type": "markdown",
   "metadata": {},
   "source": [
    "## Modeling the Problem\n",
    "\n",
    "We will now build a model for the KEP."
   ]
  },
  {
   "cell_type": "code",
   "execution_count": 16,
   "metadata": {},
   "outputs": [
    {
     "data": {
      "text/plain": [
       "Int64[]"
      ]
     },
     "metadata": {},
     "output_type": "display_data"
    }
   ],
   "source": [
    "compatibilities = kep_instance.compatibilities\n",
    "trailer = SeaPearl.Trailer()\n",
    "model = SeaPearl.CPModel(trailer)\n",
    "\n",
    "### Attempting to reduce the instance ### \n",
    "if canReduce\n",
    "    model.adhocInfo = pairsEquivalence\n",
    "    compatibilities = reduced_compatibilities\n",
    "end\n",
    "num_pairs = length(compatibilities)\n",
    "\n",
    "# =========VARIABLES=========\n",
    "#x[i, j] = 1 => pair i receive a kidney from pair j\n",
    "#x[i, j] = 0 => pair i do not receive a kidney from pair j\n",
    "x = Matrix{SeaPearl.AbstractIntVar}(undef, num_pairs, num_pairs)\n",
    "\n",
    "#minus_x = x * -1\n",
    "#Usefull to check with SumToZero that for each pair: give a kidney <=> receive a kidney\n",
    "minus_x = Matrix{SeaPearl.AbstractIntVar}(undef, num_pairs, num_pairs)\n",
    "\n",
    "for i = 1:num_pairs\n",
    "    for j = 1:num_pairs\n",
    "        if j ∈ compatibilities[i]\n",
    "            x[i, j] = SeaPearl.IntVar(0, 1, \"x_\" * string(i) * \"_\" * string(j), model.trailer)\n",
    "            SeaPearl.addVariable!(model, x[i, j]; branchable=true)\n",
    "            minus_x[i, j] = SeaPearl.IntVarViewOpposite(x[i, j], \"-x_\" * string(i) * \"_\" * string(j))\n",
    "        else\n",
    "            #force x[i, j] = 0 as j ∉ compatibilities[i]\n",
    "            x[i, j] = SeaPearl.IntVar(0, 0, \"x_\" * string(i) * \"_\" * string(j), model.trailer)\n",
    "            SeaPearl.addVariable!(model, x[i, j]; branchable=false)\n",
    "            minus_x[i, j] = SeaPearl.IntVarViewOpposite(x[i, j], \"-x_\" * string(i) * \"_\" * string(j))\n",
    "        end\n",
    "    end\n",
    "end\n",
    "\n",
    "# =========CONSTRAINTS=========\n",
    "for i = 1:num_pairs\n",
    "    SeaPearl.addConstraint!(model, SeaPearl.SumLessThan(x[i, :], 1, trailer)) #Check that any pair receives more than 1 kidney\n",
    "    SeaPearl.addConstraint!(model, SeaPearl.SumLessThan(x[:, i], 1, trailer)) #Check that any pair gives more than 1 kidney\n",
    "    SeaPearl.addConstraint!(model, SeaPearl.SumToZero(hcat(x[:, i], minus_x[i, :]), trailer)) #Check that for each pair: give a kidney <=> receive a kidney\n",
    "end\n",
    "\n",
    "# =========OBJECTIVE=========\n",
    "minusNumberOfExchanges = SeaPearl.IntVar(-num_pairs, 0, \"minusNumberOfExchanges\", trailer) # SeaPearl minimizes the objective, so we min the negative objective \n",
    "SeaPearl.addVariable!(model, minusNumberOfExchanges; branchable=false)\n",
    "vars = SeaPearl.AbstractIntVar[]\n",
    "\n",
    "for i in 1:num_pairs\n",
    "    vars = cat(vars, x[i, :]; dims=1)\n",
    "end\n",
    "push!(vars, minusNumberOfExchanges)\n",
    "\n",
    "#minusNumberOfExchanges will take the necessary value to compensate the occurences of \"1\" in x\n",
    "objective = SeaPearl.SumToZero(vars, trailer)\n",
    "SeaPearl.addConstraint!(model, objective)\n",
    "SeaPearl.addObjective!(model, minusNumberOfExchanges)\n",
    "\n",
    "model.limit.searchingTime = 120 # 2 minutes"
   ]
  },
  {
   "attachments": {},
   "cell_type": "markdown",
   "metadata": {},
   "source": [
    "## Solving the Problem\n",
    "Now that the model is built, we will solve it!"
   ]
  },
  {
   "cell_type": "code",
   "execution_count": 17,
   "metadata": {},
   "outputs": [
    {
     "name": "stdout",
     "output_type": "stream",
     "text": [
      "  5.150511 seconds (8.75 M allocations: 481.877 MiB, 3.67% gc time, 99.75% compilation time)\n"
     ]
    },
    {
     "data": {
      "text/plain": [
       ":Optimal"
      ]
     },
     "metadata": {},
     "output_type": "display_data"
    }
   ],
   "source": [
    "@time SeaPearl.solve!(model; variableHeuristic=SeaPearl.MinDomainVariableSelection{false}(), valueSelection=SeaPearl.BasicHeuristic())"
   ]
  },
  {
   "attachments": {},
   "cell_type": "markdown",
   "metadata": {},
   "source": [
    "## Plotting the Results\n",
    "\n",
    "We will now plot the results of the KEP, beginning by getting the best solution from the model."
   ]
  },
  {
   "cell_type": "code",
   "execution_count": 60,
   "metadata": {},
   "outputs": [
    {
     "data": {
      "text/plain": [
       "get_solution_sum (generic function with 1 method)"
      ]
     },
     "metadata": {},
     "output_type": "display_data"
    }
   ],
   "source": [
    "function get_top_solution(model::SeaPearl.CPModel)\n",
    "    top_solution = nothing\n",
    "    top_length = nothing\n",
    "    for solution in model.statistics.solutions\n",
    "        if !isnothing(solution)\n",
    "            solution_length = get_solution_sum(solution)\n",
    "            if isnothing(top_solution)\n",
    "                top_solution = solution\n",
    "                top_length = solution_length\n",
    "            elseif solution_length > top_length\n",
    "                top_solution = solution\n",
    "                top_length = solution_length\n",
    "            end\n",
    "        end\n",
    "    end\n",
    "    return top_solution\n",
    "end\n",
    "\n",
    "function get_solution_sum(solution::Dict)\n",
    "    current_sum = 0\n",
    "    for (key, value) in solution\n",
    "        if value == 1\n",
    "            current_sum += 1\n",
    "        end\n",
    "    end\n",
    "    return current_sum\n",
    "end"
   ]
  },
  {
   "cell_type": "code",
   "execution_count": 61,
   "metadata": {},
   "outputs": [
    {
     "data": {
      "text/plain": [
       "6"
      ]
     },
     "metadata": {},
     "output_type": "display_data"
    }
   ],
   "source": [
    "solution = get_top_solution(model)"
   ]
  },
  {
   "cell_type": "code",
   "execution_count": 92,
   "metadata": {},
   "outputs": [
    {
     "ename": "MethodError",
     "evalue": "MethodError: objects of type Int64 are not callable\nMaybe you forgot to use an operator such as *, ^, %, / etc. ?",
     "output_type": "error",
     "traceback": [
      "MethodError: objects of type Int64 are not callable\n",
      "Maybe you forgot to use an operator such as *, ^, %, / etc. ?\n",
      "\n",
      "Stacktrace:\n",
      " [1] top-level scope\n",
      "   @ c:\\Users\\leobo\\Desktop\\École\\Poly\\SeaPearl\\SeaPearlZoo.jl\\src\\classic_cp\\kidney_exchange\\kidney_exchange.ipynb:46"
     ]
    }
   ],
   "source": [
    "using Plots\n",
    "\n",
    "\n",
    "\n",
    "# Find all unique receivers and donors\n",
    "receivers = []\n",
    "donors = []\n",
    "for key in keys(solution)\n",
    "    if occursin(\"inus\", key)\n",
    "        continue\n",
    "    end\n",
    "    push!(receivers, parse(Int, split(key, \"_\")[2]))\n",
    "    push!(donors, parse(Int, split(key, \"_\")[3]))\n",
    "end\n",
    "\n",
    "# Create layout manually\n",
    "num_nodes = max(maximum(receivers), maximum(donors))\n",
    "layout = zeros(2, num_nodes)\n",
    "layout[1, receivers] .= 1  # Place receivers at x=1\n",
    "layout[1, donors] .= 2  # Place donors at x=2\n",
    "layout[2, :] = 1:num_nodes  # Spread vertices evenly along y-axis\n",
    "\n",
    "# Initialize plot with specified size\n",
    "plot(size=(500,500), legend=false, xlim=(0,3), ylim=(0,num_nodes+1))\n",
    "\n",
    "# Add edges to plot\n",
    "for (key, value) in solution\n",
    "    if value == 1\n",
    "        nodes = split(key, \"_\")\n",
    "        receiver = parse(Int, nodes[2])\n",
    "        donor = parse(Int, nodes[3])\n",
    "        plot!([layout[1,receiver], layout[1,donor]], [layout[2,receiver], layout[2,donor]], arrow=true, color=:black, lw=1)\n",
    "    end\n",
    "end\n",
    "\n",
    "# Add vertices to plot\n",
    "scatter!(layout[1, receivers], layout[2, receivers], markersize=5, color=:blue)\n",
    "scatter!(layout[1, donors], layout[2, donors], markersize=5, color=:red)\n",
    "\n",
    "# Add labels to vertices\n",
    "for i in 1:num_nodes\n",
    "    annotate!(layout[1,i], layout[2,i], text(i, 8))\n",
    "end\n",
    "\n",
    "# Show the plot\n",
    "display(current())\n"
   ]
  },
  {
   "cell_type": "code",
   "execution_count": 88,
   "metadata": {},
   "outputs": [
    {
     "data": {
      "text/plain": [
       "Dict{String, Union{Bool, Int64, Set{Int64}}} with 65 entries:\n",
       "  \"x_2_4\" => 0\n",
       "  \"x_8_2\" => 0\n",
       "  \"x_2_8\" => 0\n",
       "  \"x_3_5\" => 0\n",
       "  \"x_3_2\" => 0\n",
       "  \"x_5_1\" => 0\n",
       "  \"x_1_8\" => 0\n",
       "  \"x_4_7\" => 0\n",
       "  \"x_4_3\" => 0\n",
       "  \"x_8_6\" => 0\n",
       "  \"x_4_8\" => 0\n",
       "  \"x_4_2\" => 0\n",
       "  \"x_3_8\" => 0\n",
       "  \"x_6_6\" => 0\n",
       "  \"x_1_5\" => 0\n",
       "  \"x_5_2\" => 1\n",
       "  \"x_7_3\" => 0\n",
       "  \"x_6_1\" => 0\n",
       "  \"x_5_5\" => 0\n",
       "  ⋮       => ⋮"
      ]
     },
     "metadata": {},
     "output_type": "display_data"
    }
   ],
   "source": [
    "solution"
   ]
  },
  {
   "cell_type": "code",
   "execution_count": null,
   "metadata": {},
   "outputs": [],
   "source": []
  }
 ],
 "metadata": {
  "kernelspec": {
   "display_name": "Julia 1.8.0",
   "language": "julia",
   "name": "julia-1.8"
  },
  "language_info": {
   "file_extension": ".jl",
   "mimetype": "application/julia",
   "name": "julia",
   "version": "1.8.0"
  },
  "orig_nbformat": 4
 },
 "nbformat": 4,
 "nbformat_minor": 2
}
