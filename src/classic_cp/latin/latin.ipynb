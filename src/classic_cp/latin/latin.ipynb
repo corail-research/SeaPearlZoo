{
 "cells": [
  {
   "attachments": {},
   "cell_type": "markdown",
   "metadata": {},
   "source": [
    "# The Latin Square Problem\n",
    "\n",
    "The latin square problem involves filling an $n \\times n$ grid with $n$ different symbols, one symbol per cell, such that each symbol appears exactly once in each row and exactly once in each column. \n",
    "\n",
    "<img src=\"img/latin.png\" alt=\"Latin Square\" style=\"width:400px; height:150px;\">"
   ]
  },
  {
   "attachments": {},
   "cell_type": "markdown",
   "metadata": {},
   "source": [
    "## Setup\n",
    "We will begin by activating the environment and importing the necessary packages."
   ]
  },
  {
   "cell_type": "code",
   "execution_count": 1,
   "metadata": {},
   "outputs": [
    {
     "name": "stderr",
     "output_type": "stream",
     "text": [
      "\u001b[32m\u001b[1m  Activating\u001b[22m\u001b[39m project at `c:\\Users\\leobo\\Desktop\\École\\Poly\\SeaPearl\\SeaPearlZoo.jl`\n"
     ]
    }
   ],
   "source": [
    "using Revise\n",
    "using Pkg\n",
    "Pkg.activate(\"../../../\")\n",
    "using SeaPearl"
   ]
  },
  {
   "attachments": {},
   "cell_type": "markdown",
   "metadata": {},
   "source": [
    "## Modeling the Problem\n",
    "\n",
    "We will now build a model for the problem"
   ]
  },
  {
   "cell_type": "code",
   "execution_count": 10,
   "metadata": {},
   "outputs": [],
   "source": [
    "# Define the problem size\n",
    "square_size = 3\n",
    "matrix = zeros(Int64, (square_size, square_size))\n",
    "\n",
    "trailer = SeaPearl.Trailer()\n",
    "model = SeaPearl.CPModel(trailer)\n",
    "# model.limit.numberOfSolutions = limit\n",
    "\n",
    "N = size(matrix)[1]\n",
    "puzzle = Matrix{SeaPearl.AbstractIntVar}(undef, N, N)\n",
    "for i = 1:N\n",
    "    for j in 1:N\n",
    "        puzzle[i, j] = SeaPearl.IntVar(1, N, \"puzzle_\" * string(i) * \", \" * string(j), trailer)\n",
    "        SeaPearl.addVariable!(model, puzzle[i, j]; branchable=true)\n",
    "        if matrix[i, j] > 0\n",
    "            push!(\n",
    "                model.constraints,\n",
    "                SeaPearl.EqualConstant(puzzle[i, j], matrix[i, j], trailer)\n",
    "            )\n",
    "        end\n",
    "    end\n",
    "end\n",
    "for i in 1:N\n",
    "    push!(model.constraints, SeaPearl.AllDifferent(puzzle[i, :], model.trailer))\n",
    "    push!(model.constraints, SeaPearl.AllDifferent(puzzle[:, i], model.trailer))\n",
    "end\n"
   ]
  },
  {
   "attachments": {},
   "cell_type": "markdown",
   "metadata": {},
   "source": [
    "## Solving the Problem\n",
    "\n",
    "The model is built; let's solve it!"
   ]
  },
  {
   "cell_type": "code",
   "execution_count": 11,
   "metadata": {},
   "outputs": [
    {
     "name": "stdout",
     "output_type": "stream",
     "text": [
      "  8.226456 seconds (14.57 M allocations: 756.050 MiB, 3.16% gc time, 99.84% compilation time)\n"
     ]
    },
    {
     "data": {
      "text/plain": [
       ":Optimal"
      ]
     },
     "metadata": {},
     "output_type": "display_data"
    }
   ],
   "source": [
    "variableSelection = SeaPearl.MinDomainVariableSelection{false}()\n",
    "valueSelection = SeaPearl.BasicHeuristic()\n",
    "\n",
    "@time SeaPearl.solve!(model; variableHeuristic=variableSelection, valueSelection=valueSelection)"
   ]
  },
  {
   "attachments": {},
   "cell_type": "markdown",
   "metadata": {},
   "source": [
    "## Visualizing the Solution\n",
    "\n",
    "Let's visualize the solution obtained"
   ]
  },
  {
   "cell_type": "code",
   "execution_count": 11,
   "metadata": {},
   "outputs": [
    {
     "data": {
      "text/plain": [
       "Dict{String, Union{Bool, Int64, Set{Int64}}} with 7 entries:\n",
       "  \"item[3]\"       => 1\n",
       "  \"item[4]\"       => 1\n",
       "  \"item[2]\"       => 0\n",
       "  \"totalValue\"    => -19\n",
       "  \"total_weight\"  => 11\n",
       "  \"item[1]\"       => 0\n",
       "  \"-total_weight\" => -11"
      ]
     },
     "metadata": {},
     "output_type": "display_data"
    }
   ],
   "source": [
    "function get_best_solution(model::SeaPearl.CPModel)\n",
    "    best_solution = nothing\n",
    "    best_objective = Inf\n",
    "    for solution in model.statistics.solutions\n",
    "        if !isnothing(solution) && solution[\"totalValue\"] < best_objective\n",
    "            best_solution = solution\n",
    "            best_objective = solution[\"totalValue\"]\n",
    "        end\n",
    "    end\n",
    "    return best_solution\n",
    "end\n",
    "best_solution = get_best_solution(model)"
   ]
  },
  {
   "attachments": {},
   "cell_type": "markdown",
   "metadata": {},
   "source": [
    "## Visualizing the Solution\n",
    "\n",
    "The problem is solved, let's visualize the solution obtained!"
   ]
  },
  {
   "cell_type": "code",
   "execution_count": 13,
   "metadata": {},
   "outputs": [
    {
     "name": "stdout",
     "output_type": "stream",
     "text": [
      " ---------------\n"
     ]
    },
    {
     "name": "stdout",
     "output_type": "stream",
     "text": [
      "|\u001b[38;5;3m 03 \u001b[39m|\u001b[38;5;2m 02 \u001b[39m|\u001b[38;5;1m 01 \u001b[39m|\n",
      "|\u001b[38;5;1m 01 \u001b[39m|\u001b[38;5;3m 03 \u001b[39m|\u001b[38;5;2m 02 \u001b[39m|\n",
      "|\u001b[38;5;2m 02 \u001b[39m|\u001b[38;5;1m 01 \u001b[39m|\u001b[38;5;3m 03 \u001b[39m|\n",
      " ---------------"
     ]
    }
   ],
   "source": [
    "sol = model.statistics.solutions[1]\n",
    "n = oftype(1, sqrt(length(sol)))\n",
    "tableau = Matrix{Int}(undef, n, n)\n",
    "for i in 1:n, j in 1:n\n",
    "    tableau[i, j] = sol[\"puzzle_\"*string(i)*\", \"*string(j)]\n",
    "end\n",
    "print(\" \")\n",
    "for k in 1:5*n\n",
    "    print(\"-\")\n",
    "end\n",
    "println()\n",
    "for i in 1:n\n",
    "    print(\"|\")\n",
    "    for j in 1:n\n",
    "        printstyled(\" \" * string(tableau[i, j], pad=2) * \" \", color=tableau[i, j])\n",
    "        print(\"|\")\n",
    "    end\n",
    "    println()\n",
    "end\n",
    "print(\" \")\n",
    "for k in 1:5*n\n",
    "    print(\"-\")\n",
    "end"
   ]
  }
 ],
 "metadata": {
  "kernelspec": {
   "display_name": "Julia 1.8.0",
   "language": "julia",
   "name": "julia-1.8"
  },
  "language_info": {
   "file_extension": ".jl",
   "mimetype": "application/julia",
   "name": "julia",
   "version": "1.8.0"
  },
  "orig_nbformat": 4
 },
 "nbformat": 4,
 "nbformat_minor": 2
}
