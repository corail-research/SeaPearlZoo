{
 "cells": [
  {
   "attachments": {},
   "cell_type": "markdown",
   "metadata": {},
   "source": [
    "# Graph Coloring Problem\n",
    "\n",
    "The graph coloring problem is a classic problem of combinatorial optimization. It consists of coloring the vertices of a graph such that no two adjacent vertices share the same color. The objective is to minimize the number of colors used.\n",
    "\n",
    "<img src=\"img/graph_coloring.png\" alt=\"Solved Coloring\" style=\"width:400px; height:400px;\">\n",
    "\n",
    "In this notebook, we will show how to model and solve the graph coloring problem using SeaPearl.jl."
   ]
  },
  {
   "attachments": {},
   "cell_type": "markdown",
   "metadata": {},
   "source": [
    "## Setup\n",
    "We will begin by activating the environment and importing the necessary packages."
   ]
  },
  {
   "cell_type": "code",
   "execution_count": null,
   "metadata": {},
   "outputs": [],
   "source": [
    "using Pkg\n",
    "Pkg.activate(\"../../../../\")\n",
    "Pkg.instantiate()\n",
    "using Revise\n",
    "using SeaPearl"
   ]
  },
  {
   "attachments": {},
   "cell_type": "markdown",
   "metadata": {},
   "source": [
    "## Problem formulation\n",
    "\n",
    "The instances have the following format:\n",
    "```\n",
    "4 3\n",
    "0 1\n",
    "1 2\n",
    "1 3\n",
    "```\n",
    "The first line contains the number of vertices and the number of edges. Each subsequent line contains the indices of two vertices that are connected by an edge. In the instance displayed above, we have a graph containing 4 vertices and 3 edges. The first edge connects vertices 0 and 1, the second edge connects vertices 1 and 2, and the third edge connects vertices 1 and 3."
   ]
  },
  {
   "attachments": {},
   "cell_type": "markdown",
   "metadata": {},
   "source": [
    "## Parsing the Instances\n",
    "\n",
    "We will now build utilities to parse the instances."
   ]
  },
  {
   "cell_type": "code",
   "execution_count": 3,
   "metadata": {},
   "outputs": [
    {
     "data": {
      "text/plain": [
       "parseColoringInput"
      ]
     },
     "metadata": {},
     "output_type": "display_data"
    }
   ],
   "source": [
    "\"\"\"\n",
    "    Edge\n",
    "\n",
    "    Struct to represent an edge in a graph\n",
    "\"\"\"\n",
    "struct Edge\n",
    "    vertex1::Int\n",
    "    vertex2::Int\n",
    "end\n",
    "\n",
    "\"\"\"\n",
    "    ColoringInputData\n",
    "\n",
    "    Struct to represent the input data of a graph coloring problem\n",
    "\"\"\"\n",
    "struct ColoringInputData\n",
    "    edges::Array{Edge}\n",
    "    numberOfEdges::Int\n",
    "    numberOfVertices::Int\n",
    "end\n",
    "\n",
    "\"\"\"parseColoringInput\n",
    "\n",
    "    Function to parse the input of a graph coloring problem\n",
    "\n",
    "    # Arguments\n",
    "    - `filename::String`: path to the file containing the input data\n",
    "\n",
    "    # Output\n",
    "    - `::ColoringInputData`: the input data of the graph coloring problem\n",
    "\"\"\"\n",
    "function parseColoringInput(filename::String)\n",
    "    raw_input = nothing\n",
    "    open(filename, \"r\") do openedFile\n",
    "        raw_input = read(openedFile, String)\n",
    "    end\n",
    "    lines = split(raw_input, '\\n')\n",
    "    firstLine = split(lines[1], ' ')\n",
    "    numberOfVertices = parse(Int, firstLine[1])\n",
    "    numberOfEdges = parse(Int, firstLine[2])\n",
    "    edges = Array{Union{Edge, Nothing}}(nothing, numberOfEdges)\n",
    "    @assert numberOfEdges + 2 <= length(lines)\n",
    "\n",
    "    for i in 1:numberOfEdges\n",
    "        edgeArray = split(lines[i+1], ' ')\n",
    "        edge = Edge(parse(Int, edgeArray[1])+1, parse(Int, edgeArray[2])+1)\n",
    "        edges[i] = edge\n",
    "    end\n",
    "\n",
    "    return ColoringInputData(edges, numberOfEdges, numberOfVertices)\n",
    "end"
   ]
  },
  {
   "cell_type": "code",
   "execution_count": 4,
   "metadata": {},
   "outputs": [
    {
     "data": {
      "text/plain": [
       "ColoringInputData(Edge[Edge(1, 17), Edge(2, 3), Edge(2, 7), Edge(2, 8), Edge(2, 9), Edge(3, 12), Edge(3, 17), Edge(3, 18), Edge(4, 15), Edge(4, 17)  …  Edge(5, 18), Edge(6, 7), Edge(6, 12), Edge(7, 19), Edge(10, 13), Edge(11, 14), Edge(12, 18), Edge(14, 16), Edge(16, 18), Edge(17, 20)], 23, 20)"
      ]
     },
     "metadata": {},
     "output_type": "display_data"
    }
   ],
   "source": [
    "gc_instance = parseColoringInput(\"./data/gc_20_1\")"
   ]
  },
  {
   "attachments": {},
   "cell_type": "markdown",
   "metadata": {},
   "source": [
    "## Modeling the Problem\n",
    "\n",
    "We will now build a model for the problem. The first step is to create a model, implemented in SeaPearl by the `CPModel` struct. `CPModel` needs a trailer to keep track of its current position during search. Therefore, creating a model can be done in the following way:\n",
    "```julia\n",
    "trailer = SeaPearl.Trailer()\n",
    "model = SeaPearl.CPModel(trailer)\n",
    "```\n",
    "\n",
    "Next up, we will be using integer variables, implemented as `SeaPearl.IntVar` structs. Creating such variables can be done in the following way:\n",
    "\n",
    "```julia\n",
    "SeaPearl.IntVar(minimum_value, maximum_value, variable_name, trailer)\n",
    "```\n",
    "\n",
    "We will proceed by creating an array for these variables, one for each vertex in the graph. Then, once variables are created, they need to be tied with a `CPModel` by the way of constraints. For example, to add an Equality constraint ensuring the variable `x` is equal to `1`, we can do the following:\n",
    "\n",
    "```julia\n",
    "push!(model.constraints, SeaPearl.EqualConstant(x, 1, trailer))\n",
    "```\n",
    "\n",
    "Finally, the model needs an objective in order to optimize. Keep in mind that SeaPearl always minimizes, although this should not be a problem for graph coloring. To add an objective, we can do the following:\n",
    "\n",
    "```julia\n",
    "SeaPearl.addVariable!(model, x)\n",
    "SeaPearl.addObjective!(model, x)\n",
    "```\n",
    "\n",
    "Putting it all together, we have the following model."
   ]
  },
  {
   "cell_type": "code",
   "execution_count": null,
   "metadata": {},
   "outputs": [],
   "source": [
    "trailer = SeaPearl.Trailer()\n",
    "model = SeaPearl.CPModel(trailer)\n",
    "\n",
    "### Variable Declaration ###\n",
    "x = SeaPearl.IntVar[] # Array of variables\n",
    "for i in 1:gc_instance.numberOfVertices\n",
    "# =============== Add variables to the model ===============\n",
    "    new_var = SeaPearl.IntVar(1, gc_instance.numberOfVertices, string(i), trailer)\n",
    "    push!(x, new_var)\n",
    "    SeaPearl.addVariable!(model, new_var)\n",
    "end\n",
    "\n",
    "### Constraints Declaration ###\n",
    "\n",
    "# Edge constraints\n",
    "for edge in gc_instance.edges\n",
    "    # ==== Define one constraint per edge, guaranteeing their values differ =====\n",
    "    push!(model.constraints, SeaPearl.NotEqual(x[edge.vertex1], x[edge.vertex2], trailer))\n",
    "end\n",
    "\n",
    "# =========== Add symmetry-breaking constraint: first color = 1 ===========\n",
    "push!(model.constraints, SeaPearl.EqualConstant(x[1], 1, trailer))\n",
    "# =========== Add symmetry-breaking constraint: first color <= second color ===========\n",
    "push!(model.constraints, SeaPearl.LessOrEqual(x[1], x[2], trailer))\n",
    "\n",
    "### Objective ###\n",
    "# ================ Create one variable for the number of colors, give it the name \"numberOfColors\" and add it to the model ================\n",
    "numberOfColors = SeaPearl.IntVar(0, gc_instance.numberOfVertices, \"numberOfColors\", trailer)\n",
    "SeaPearl.addVariable!(model, numberOfColors)\n",
    "\n",
    "# ================ Add the constraint max(x) <= numberOfColors ================\n",
    "for var in x\n",
    "    push!(model.constraints, SeaPearl.LessOrEqual(var, numberOfColors, trailer))\n",
    "end\n",
    "\n",
    "# ================ Define the objective as the numberOfColors variable ================\n",
    "SeaPearl.addObjective!(model, numberOfColors)"
   ]
  },
  {
   "attachments": {},
   "cell_type": "markdown",
   "metadata": {},
   "source": [
    "## Solving the Problem\n",
    "\n",
    "The model is built; let's solve it! To solve a model, SeaPearl uses the `solve!` function. This function takes a model, a variable selection heuristic and a value selection heuristic. It is possible to build custom heuristics, but for this exercise we will simply be using the Min Domain variable selection heuristic and `SeaPearl.BasicHeuristics`, which selects the maximum value available for each domain. The `solve!` function solves the problem and modifies the model it received to make it store solutions found."
   ]
  },
  {
   "cell_type": "code",
   "execution_count": 6,
   "metadata": {},
   "outputs": [
    {
     "data": {
      "text/plain": [
       ":Optimal"
      ]
     },
     "metadata": {},
     "output_type": "display_data"
    }
   ],
   "source": [
    "SeaPearl.solve!(model; variableHeuristic=SeaPearl.MinDomainVariableSelection{false}(), valueSelection=SeaPearl.BasicHeuristic())"
   ]
  },
  {
   "attachments": {},
   "cell_type": "markdown",
   "metadata": {},
   "source": [
    "## Plotting the Solution\n",
    "\n",
    "Let's visualize the solution obtained"
   ]
  },
  {
   "cell_type": "code",
   "execution_count": null,
   "metadata": {},
   "outputs": [],
   "source": [
    "function get_best_solution(model::SeaPearl.CPModel)\n",
    "    best_solution = nothing\n",
    "    best_objective = Inf\n",
    "    for solution in model.statistics.solutions\n",
    "        if !isnothing(solution) && solution[\"numberOfColors\"] < best_objective\n",
    "            best_solution = solution\n",
    "            best_objective = solution[\"numberOfColors\"]\n",
    "        end\n",
    "    end\n",
    "    return best_solution\n",
    "end"
   ]
  },
  {
   "cell_type": "code",
   "execution_count": null,
   "metadata": {},
   "outputs": [],
   "source": [
    "best_solution = get_best_solution(model)"
   ]
  },
  {
   "cell_type": "code",
   "execution_count": null,
   "metadata": {},
   "outputs": [],
   "source": [
    "using Graphs, GraphPlot, Plots, Colors\n",
    "\n",
    "function generate_colors(n::Int)\n",
    "    colors = [HSV((i - 1) * 360 / n, 1, 1) for i in 1:n]\n",
    "    return colors\n",
    "end\n",
    "\n",
    "# Function to convert ColoringInputData and color dictionary to Graphs.SimpleGraph and color vector\n",
    "function to_simplegraph_and_colors(input::ColoringInputData, solution::Dict{String,Union{Bool,Int64,Set{Int64}}})\n",
    "    g = Graphs.Graph(input.numberOfVertices)\n",
    "    for edge in input.edges\n",
    "        Graphs.add_edge!(g, edge.vertex1, edge.vertex2)\n",
    "    end\n",
    "    colors = generate_colors(solution[\"numberOfColors\"])\n",
    "    color_vector = [colors[solution[string(v)]] for v in 1:input.numberOfVertices]\n",
    "    return g, color_vector\n",
    "end\n",
    "\n",
    "graph, node_colors = to_simplegraph_and_colors(gc_instance, best_solution)\n",
    "gplot(graph, nodefillc=node_colors, nodelabel=1:gc_instance.numberOfVertices)\n"
   ]
  },
  {
   "cell_type": "code",
   "execution_count": null,
   "metadata": {},
   "outputs": [],
   "source": []
  }
 ],
 "metadata": {
  "kernelspec": {
   "display_name": "Julia 1.8.0",
   "language": "julia",
   "name": "julia-1.8"
  },
  "language_info": {
   "file_extension": ".jl",
   "mimetype": "application/julia",
   "name": "julia",
   "version": "1.8.0"
  },
  "orig_nbformat": 4
 },
 "nbformat": 4,
 "nbformat_minor": 2
}
