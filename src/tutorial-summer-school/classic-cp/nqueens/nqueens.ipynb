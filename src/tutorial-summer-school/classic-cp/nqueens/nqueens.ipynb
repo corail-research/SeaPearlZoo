{
 "cells": [
  {
   "attachments": {},
   "cell_type": "markdown",
   "metadata": {},
   "source": [
    "# The N-Queens Problem\n",
    "\n",
    "The N-Queens Problems is to place N queens on an N x N chessboard such that no queen attacks any other queen. A queen can attack any other queen if they are in the same row, column, or diagonal. The following figure shows a solution to the 8-queens problem.\n",
    "\n",
    "<img src=\"img/nqueens.jpg\" alt=\"nqueens\" style=\"width:600px; height:400px;\">\n",
    "\n",
    "In this notebook, we will show how to model and solve the n-queens problem using SeaPearl.jl."
   ]
  },
  {
   "attachments": {},
   "cell_type": "markdown",
   "metadata": {},
   "source": [
    "## Setup\n",
    "We will begin by activating the environment and importing the necessary packages."
   ]
  },
  {
   "cell_type": "code",
   "execution_count": 2,
   "metadata": {},
   "outputs": [
    {
     "name": "stderr",
     "output_type": "stream",
     "text": [
      "\u001b[32m\u001b[1m  Activating\u001b[22m\u001b[39m project at `c:\\Users\\leobo\\Desktop\\École\\Poly\\SeaPearl\\SeaPearlZoo.jl`\n"
     ]
    }
   ],
   "source": [
    "using Pkg\n",
    "Pkg.activate(\"../../../../\")\n",
    "Pkg.instantiate()\n",
    "using Revise\n",
    "using SeaPearl"
   ]
  },
  {
   "attachments": {},
   "cell_type": "markdown",
   "metadata": {},
   "source": [
    "## Modeling the Problem\n",
    "\n",
    "We will now build a model for the problem. The first step is to create a model, implemented in SeaPearl by the `CPModel` struct. `CPModel` needs a trailer to keep track of its current position during search. Therefore, creating a model can be done in the following way:\n",
    "```julia\n",
    "trailer = SeaPearl.Trailer()\n",
    "model = SeaPearl.CPModel(trailer)\n",
    "```\n",
    "\n",
    "Next up, we will be using integer variables, implemented as `SeaPearl.IntVar` structs. Creating such variables can be done in the following way:\n",
    "\n",
    "```julia\n",
    "SeaPearl.IntVar(minimum_value, maximum_value, variable_name, trailer)\n",
    "```\n",
    "\n",
    "We will proceed by creating an array for these variables, one for each vertex in the graph. Then, once variables are created, they need to be tied with a `CPModel` by the way of constraints. For example, to add an Equality constraint ensuring the variable `x` is equal to `1`, we can do the following:\n",
    "\n",
    "```julia\n",
    "push!(model.constraints, SeaPearl.EqualConstant(x, 1, trailer))\n",
    "```\n",
    "\n",
    "Finally, the model needs an objective in order to optimize. Keep in mind that SeaPearl always minimizes, although this should not be a problem for graph coloring. To add an objective, we can do the following:\n",
    "\n",
    "```julia\n",
    "SeaPearl.addVariable!(model, x)\n",
    "SeaPearl.addObjective!(model, x)\n",
    "```\n",
    "\n",
    "Putting it all together, we have the following model."
   ]
  },
  {
   "cell_type": "code",
   "execution_count": null,
   "metadata": {},
   "outputs": [],
   "source": [
    "board_size = 8\n",
    "trailer = SeaPearl.Trailer()\n",
    "model = SeaPearl.CPModel(trailer)\n",
    "\n",
    "# rows[i] designates the row of queen in column i\n",
    "rows = Vector{SeaPearl.AbstractIntVar}(undef, board_size)\n",
    "for i = 1:board_size\n",
    "    rows[i] = SeaPearl.IntVar(1, board_size, \"row_\" * string(i), trailer)\n",
    "    SeaPearl.addVariable!(model, rows[i]; branchable=true)\n",
    "end\n",
    "# diagonals from top left to bottom right\n",
    "rows_plus = Vector{SeaPearl.AbstractIntVar}(undef, board_size)\n",
    "for i = 1:board_size\n",
    "    rows_plus[i] = SeaPearl.IntVarViewOffset(rows[i], i, rows[i].id * \"+\" * string(i))\n",
    "end\n",
    "# diagonals top right to bottom left\n",
    "rows_minus = Vector{SeaPearl.AbstractIntVar}(undef, board_size)\n",
    "for i = 1:board_size\n",
    "    rows_minus[i] = SeaPearl.IntVarViewOffset(rows[i], -i, rows[i].id * \"-\" * string(i))\n",
    "end\n",
    "\n",
    "push!(model.constraints, SeaPearl.AllDifferent(rows, trailer)) # All rows and columns are different - since rows are all different and queens are on different rows\n",
    "push!(model.constraints, SeaPearl.AllDifferent(rows_plus, trailer))\n",
    "push!(model.constraints, SeaPearl.AllDifferent(rows_minus, trailer))"
   ]
  },
  {
   "attachments": {},
   "cell_type": "markdown",
   "metadata": {},
   "source": [
    "## Solving the Problem\n",
    "\n",
    "The model is built; let's solve it!"
   ]
  },
  {
   "cell_type": "code",
   "execution_count": 4,
   "metadata": {},
   "outputs": [
    {
     "data": {
      "text/plain": [
       ":Optimal"
      ]
     },
     "execution_count": 4,
     "metadata": {},
     "output_type": "execute_result"
    }
   ],
   "source": [
    "valueSelection = SeaPearl.BasicHeuristic()\n",
    "SeaPearl.solve!(model; variableHeuristic=SeaPearl.MinDomainVariableSelection{false}(), valueSelection=valueSelection)"
   ]
  },
  {
   "attachments": {},
   "cell_type": "markdown",
   "metadata": {},
   "source": [
    "## Visualizing the Solution\n",
    "\n",
    "Let's visualize the solution obtained"
   ]
  },
  {
   "cell_type": "code",
   "execution_count": 5,
   "metadata": {},
   "outputs": [
    {
     "data": {
      "text/plain": [
       "print_queens"
      ]
     },
     "execution_count": 5,
     "metadata": {},
     "output_type": "execute_result"
    }
   ],
   "source": [
    "\"\"\"\n",
    "    print_queens(model::SeaPearl.CPModel; nb_sols=typemax(Int))\n",
    "\n",
    "Print at max nb_sols solutions to the N-queens problems.\n",
    "\n",
    "# Arguments\n",
    "- `model::SeaPearl.CPModel`: needs the model to be already solved (by solve_queens)\n",
    "- 'nb_sols::Int' : maximum number of solutions to print\n",
    "\"\"\"\n",
    "function print_queens(model::SeaPearl.CPModel; nb_sols=typemax(Int))\n",
    "    variables = model.variables\n",
    "    solutions = model.statistics.solutions\n",
    "    board_size = length(model.variables)\n",
    "    count = 0\n",
    "    real_solutions = filter(e -> !isnothing(e), solutions)\n",
    "    println(\"The solver found \" * string(length(real_solutions)) * \" solutions to the \" * string(board_size) * \"-queens problem. Let's show them.\")\n",
    "    println()\n",
    "    for key in keys(real_solutions)\n",
    "        if (count >= nb_sols)\n",
    "            break\n",
    "        end\n",
    "        sol = real_solutions[key]\n",
    "        println(\"Solution \" * string(count + 1))\n",
    "        count += 1\n",
    "        for i in 1:board_size\n",
    "            ind_queen = sol[\"row_\"*string(i)]\n",
    "            for j in 1:board_size\n",
    "                if (j == ind_queen)\n",
    "                    print(\"Q \")\n",
    "                else\n",
    "                    print(\"_ \")\n",
    "                end\n",
    "            end\n",
    "            println()\n",
    "        end\n",
    "        println()\n",
    "    end\n",
    "end"
   ]
  },
  {
   "cell_type": "code",
   "execution_count": null,
   "metadata": {},
   "outputs": [],
   "source": [
    "print_queens(model)"
   ]
  },
  {
   "attachments": {},
   "cell_type": "markdown",
   "metadata": {},
   "source": [
    "## Appendix - Variable Selection Heuristic\n",
    "\n",
    "SeaPearl allows for the creation of custom value selection and variable selection heuristics. For this example, we will build a custom variable selection heuristic.\n",
    "\n",
    "The `MostCenteredVariableSelection` strategy selects the next variable to branch on based on how close the corresponding row is to the center of the board. The closer the row is to the center, the higher its score. The score is calculated using the `get_centered_score` function, which takes the number of variables (i.e., the size of the board) and a branchable variable (i.e., a variable that has not yet been assigned a value) as input and returns a floating-point score.\n",
    "\n",
    "The `MostCenteredVariableSelection` strategy has two methods: one for selecting the next variable to branch on when the objective function is not taken into account (`(::MostCenteredVariableSelection{false})(cpmodel::SeaPearl.CPModel)::SeaPearl.AbstractIntVar`) and one for selecting the next variable to branch on when the objective function is taken into account (`(::MostCenteredVariableSelection{true})(cpmodel::SeaPearl.CPModel)::SeaPearl.AbstractIntVar`). \n",
    "\n",
    "Both methods take a `SeaPearl.CPModel` object as input and return a `SeaPearl.AbstractIntVar` object, which represents the next variable to branch on. The methods first collect all branchable variables in the model, then sort them based on their centered score using the `get_centered_score` function. Finally, the methods loop over the sorted variables until an unbound variable is found, and return that variable.\n",
    "\n",
    "The `get_centered_score` function takes the number of variables and a branchable variable as input and returns the centered score of the corresponding row. The centered score is calculated as the absolute difference between the row index and the center of the board."
   ]
  },
  {
   "cell_type": "code",
   "execution_count": 9,
   "metadata": {},
   "outputs": [
    {
     "data": {
      "text/plain": [
       "get_centered_score"
      ]
     },
     "execution_count": 9,
     "metadata": {},
     "output_type": "execute_result"
    }
   ],
   "source": [
    "\"\"\"\n",
    "    struct MostCenteredVariableSelection{TakeObjective}\n",
    "\n",
    "VariableSelection heuristic that selects the legal (ie. among the not bounded ones) most centered Queen.\n",
    "\"\"\"\n",
    "struct MostCenteredVariableSelection{TakeObjective} <: SeaPearl.AbstractVariableSelection{TakeObjective} end\n",
    "MostCenteredVariableSelection(; take_objective=true) = MostCenteredVariableSelection{take_objective}()\n",
    "\n",
    "function (::MostCenteredVariableSelection{false})(cpmodel::SeaPearl.CPModel)::SeaPearl.AbstractIntVar\n",
    "    selected_variable = nothing\n",
    "    num_variables = length(cpmodel.variables)\n",
    "    branchable_variables = collect(SeaPearl.branchable_variables(cpmodel))\n",
    "\n",
    "    # sorted_variables will be of type Vector{Pair{String, SeaPearl.AbstractVar}}\n",
    "    # all elements of the sorted_variables Vector will contain the variable name in position 1\n",
    "    # and the variable in position 2\n",
    "    sorted_variables = sort(\n",
    "        branchable_variables,\n",
    "        by=x -> get_centered_score(num_variables, x),\n",
    "        rev=true\n",
    "    )\n",
    "    # Loop until an unbound variable is found\n",
    "    while !isempty(sorted_variables)\n",
    "        selected_variable = pop!(sorted_variables)[2] # as mentionned above, the second element is the variable\n",
    "        if !(selected_variable == cpmodel.objective) && !SeaPearl.isbound(selected_variable)\n",
    "            break\n",
    "        end\n",
    "    end\n",
    "\n",
    "    if SeaPearl.isnothing(selected_variable) && !SeaPearl.isbound(cpmodel.objective)\n",
    "        return cpmodel.objective\n",
    "    end\n",
    "    return selected_variable\n",
    "end\n",
    "\n",
    "function (::MostCenteredVariableSelection{true})(cpmodel::SeaPearl.CPModel)::SeaPearl.AbstractIntVar # question: argument{true} ou {false} ?\n",
    "    selected_variable = nothing\n",
    "    num_variables = length(cpmodel.variables)\n",
    "    branchable_variables = collect(SeaPearl.branchable_variables(cpmodel))\n",
    "    sorted_variables = sort(\n",
    "        branchable_variables,\n",
    "        by=x -> get_centered_score(num_variables, x),\n",
    "        rev=true\n",
    "    )\n",
    "    # Loop until an unbound variable is found\n",
    "    while true\n",
    "        selected_variable = pop!(sorted_variables)[2]\n",
    "        if !SeaPearl.isbound(selected_variable)\n",
    "            break\n",
    "        end\n",
    "    end\n",
    "\n",
    "    return selected_variable\n",
    "end\n",
    "\"\"\"\n",
    "    get_centered_score(num_variables::Int, branchable_variable::Pair{String, SeaPearl.AbstractVar})::Float64\n",
    "Returns the centered score of a row; i.e. how close the queen is to the center of the board.\n",
    "\"\"\"\n",
    "function get_centered_score(num_variables::Int, branchable_variable::Pair{String,SeaPearl.AbstractVar})::Float64\n",
    "    variable_name::String = branchable_variable[1]\n",
    "    row_id::Int = parse(Int, match(r\"[0-9]*$\", variable_name).match)\n",
    "    centered_score::Float64 = abs(num_variables / 2 - row_id)\n",
    "\n",
    "    return centered_score\n",
    "end"
   ]
  },
  {
   "attachments": {},
   "cell_type": "markdown",
   "metadata": {},
   "source": [
    "## Solving the problem - with a custom variable selection heuristic\n",
    "\n",
    "Now let's put this heuristic to use!"
   ]
  },
  {
   "cell_type": "code",
   "execution_count": null,
   "metadata": {},
   "outputs": [],
   "source": [
    "valueSelection = SeaPearl.BasicHeuristic()\n",
    "SeaPearl.solve!(model; variableHeuristic=MostCenteredVariableSelection{false}(), valueSelection=valueSelection)"
   ]
  }
 ],
 "metadata": {
  "kernelspec": {
   "display_name": "Julia 1.8.0",
   "language": "julia",
   "name": "julia-1.8"
  },
  "language_info": {
   "file_extension": ".jl",
   "mimetype": "application/julia",
   "name": "julia",
   "version": "1.8.0"
  },
  "orig_nbformat": 4
 },
 "nbformat": 4,
 "nbformat_minor": 2
}
